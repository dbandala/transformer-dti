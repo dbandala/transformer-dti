{
  "cells": [
    {
      "cell_type": "code",
      "execution_count": null,
      "metadata": {
        "colab": {
          "base_uri": "https://localhost:8080/"
        },
        "id": "5bALUwjAa9uH",
        "outputId": "d427cda4-16a0-47d3-f11d-c560d828062d"
      },
      "outputs": [
        {
          "output_type": "stream",
          "name": "stdout",
          "text": [
            "Collecting dipy\n",
            "  Downloading dipy-1.9.0-cp310-cp310-manylinux_2_17_x86_64.manylinux2014_x86_64.whl (9.0 MB)\n",
            "\u001b[2K     \u001b[90m━━━━━━━━━━━━━━━━━━━━━━━━━━━━━━━━━━━━━━━━\u001b[0m \u001b[32m9.0/9.0 MB\u001b[0m \u001b[31m14.0 MB/s\u001b[0m eta \u001b[36m0:00:00\u001b[0m\n",
            "\u001b[?25hRequirement already satisfied: numpy>=1.22.4 in /usr/local/lib/python3.10/dist-packages (from dipy) (1.25.2)\n",
            "Requirement already satisfied: scipy>=1.8 in /usr/local/lib/python3.10/dist-packages (from dipy) (1.11.4)\n",
            "Requirement already satisfied: nibabel>=3.0.0 in /usr/local/lib/python3.10/dist-packages (from dipy) (4.0.2)\n",
            "Requirement already satisfied: h5py>=3.1.0 in /usr/local/lib/python3.10/dist-packages (from dipy) (3.9.0)\n",
            "Requirement already satisfied: packaging>=21 in /usr/local/lib/python3.10/dist-packages (from dipy) (24.1)\n",
            "Requirement already satisfied: tqdm>=4.30.0 in /usr/local/lib/python3.10/dist-packages (from dipy) (4.66.4)\n",
            "Collecting trx-python>=0.2.9 (from dipy)\n",
            "  Downloading trx_python-0.3-py3-none-any.whl (45 kB)\n",
            "\u001b[2K     \u001b[90m━━━━━━━━━━━━━━━━━━━━━━━━━━━━━━━━━━━━━━━━\u001b[0m \u001b[32m45.2/45.2 kB\u001b[0m \u001b[31m4.6 MB/s\u001b[0m eta \u001b[36m0:00:00\u001b[0m\n",
            "\u001b[?25hRequirement already satisfied: setuptools in /usr/local/lib/python3.10/dist-packages (from nibabel>=3.0.0->dipy) (67.7.2)\n",
            "Collecting setuptools-scm (from trx-python>=0.2.9->dipy)\n",
            "  Downloading setuptools_scm-8.1.0-py3-none-any.whl (43 kB)\n",
            "\u001b[2K     \u001b[90m━━━━━━━━━━━━━━━━━━━━━━━━━━━━━━━━━━━━━━━━\u001b[0m \u001b[32m43.7/43.7 kB\u001b[0m \u001b[31m2.8 MB/s\u001b[0m eta \u001b[36m0:00:00\u001b[0m\n",
            "\u001b[?25hCollecting deepdiff (from trx-python>=0.2.9->dipy)\n",
            "  Downloading deepdiff-7.0.1-py3-none-any.whl (80 kB)\n",
            "\u001b[2K     \u001b[90m━━━━━━━━━━━━━━━━━━━━━━━━━━━━━━━━━━━━━━━━\u001b[0m \u001b[32m80.8/80.8 kB\u001b[0m \u001b[31m6.2 MB/s\u001b[0m eta \u001b[36m0:00:00\u001b[0m\n",
            "\u001b[?25hCollecting nibabel>=3.0.0 (from dipy)\n",
            "  Downloading nibabel-5.2.1-py3-none-any.whl (3.3 MB)\n",
            "\u001b[2K     \u001b[90m━━━━━━━━━━━━━━━━━━━━━━━━━━━━━━━━━━━━━━━━\u001b[0m \u001b[32m3.3/3.3 MB\u001b[0m \u001b[31m30.8 MB/s\u001b[0m eta \u001b[36m0:00:00\u001b[0m\n",
            "\u001b[?25hCollecting ordered-set<4.2.0,>=4.1.0 (from deepdiff->trx-python>=0.2.9->dipy)\n",
            "  Downloading ordered_set-4.1.0-py3-none-any.whl (7.6 kB)\n",
            "Requirement already satisfied: tomli>=1 in /usr/local/lib/python3.10/dist-packages (from setuptools-scm->trx-python>=0.2.9->dipy) (2.0.1)\n",
            "Installing collected packages: setuptools-scm, ordered-set, nibabel, deepdiff, trx-python, dipy\n",
            "  Attempting uninstall: nibabel\n",
            "    Found existing installation: nibabel 4.0.2\n",
            "    Uninstalling nibabel-4.0.2:\n",
            "      Successfully uninstalled nibabel-4.0.2\n",
            "Successfully installed deepdiff-7.0.1 dipy-1.9.0 nibabel-5.2.1 ordered-set-4.1.0 setuptools-scm-8.1.0 trx-python-0.3\n",
            "Collecting einops\n",
            "  Downloading einops-0.8.0-py3-none-any.whl (43 kB)\n",
            "\u001b[2K     \u001b[90m━━━━━━━━━━━━━━━━━━━━━━━━━━━━━━━━━━━━━━━━\u001b[0m \u001b[32m43.2/43.2 kB\u001b[0m \u001b[31m2.3 MB/s\u001b[0m eta \u001b[36m0:00:00\u001b[0m\n",
            "\u001b[?25hInstalling collected packages: einops\n",
            "Successfully installed einops-0.8.0\n"
          ]
        }
      ],
      "source": [
        "!pip install dipy\n",
        "!pip install einops"
      ],
      "id": "5bALUwjAa9uH"
    },
    {
      "cell_type": "code",
      "execution_count": null,
      "metadata": {
        "colab": {
          "base_uri": "https://localhost:8080/"
        },
        "id": "S4ilmcaWa0mN",
        "outputId": "72d3aea5-451b-45ac-e95b-09a634eb883d"
      },
      "outputs": [
        {
          "output_type": "stream",
          "name": "stdout",
          "text": [
            "Mounted at /content/drive\n"
          ]
        }
      ],
      "source": [
        "import os\n",
        "from google.colab import drive\n",
        "mount_path = '/content/drive'\n",
        "drive_path = mount_path+\"/MyDrive/dti-transformer/code/cl-training\"\n",
        "results_path = drive_path+\"/results/FA\"\n",
        "drive.mount(mount_path)\n",
        "os.chdir(drive_path)\n",
        "continue_training = True"
      ],
      "id": "S4ilmcaWa0mN"
    },
    {
      "cell_type": "code",
      "execution_count": null,
      "metadata": {
        "id": "cc75b2b9-310c-49f2-8c68-c9120d9bb97a"
      },
      "outputs": [],
      "source": [
        "# Daniel Bandala @ mar-2023\n",
        "# dti-model training script\n",
        "# general libraries\n",
        "import numpy as np\n",
        "import pandas as pd\n",
        "import matplotlib.pyplot as plt\n",
        "from random import shuffle\n",
        "# diffussion image processing\n",
        "from dipy.io.image import load_nifti\n",
        "# import torch libraries\n",
        "import torch\n",
        "import torch.nn as nn\n",
        "import torch.optim as optim\n",
        "from torch.optim.lr_scheduler import StepLR\n",
        "# import dataset auxiliar libraries\n",
        "from data_loader_cl import *\n",
        "from tqdm.notebook import tqdm\n",
        "# import model\n",
        "import sys\n",
        "sys.path.insert(1, '../model')\n",
        "from dti_model import DiffusionTensorModel"
      ],
      "id": "cc75b2b9-310c-49f2-8c68-c9120d9bb97a"
    },
    {
      "cell_type": "code",
      "execution_count": null,
      "metadata": {
        "id": "uk6N7j_s7YFu"
      },
      "outputs": [],
      "source": [
        "# set plot parameters\n",
        "plt.rcParams.update({'font.size': 20})"
      ],
      "id": "uk6N7j_s7YFu"
    },
    {
      "cell_type": "code",
      "execution_count": null,
      "metadata": {
        "id": "6d1292e1-a110-4048-abc9-4ff818833c7f"
      },
      "outputs": [],
      "source": [
        "# folders dataset\n",
        "main_dir = '/content/drive/MyDrive/dti-transformer/dti_data/INUTR'"
      ],
      "id": "6d1292e1-a110-4048-abc9-4ff818833c7f"
    },
    {
      "cell_type": "code",
      "execution_count": null,
      "metadata": {
        "colab": {
          "base_uri": "https://localhost:8080/"
        },
        "id": "60d8c0a1-5f64-45df-8f37-ad4bb05748e9",
        "outputId": "ec1a2efe-9758-4a72-b1b9-527081c1f9a4"
      },
      "outputs": [
        {
          "output_type": "execute_result",
          "data": {
            "text/plain": [
              "(112, 112, 70, 15)"
            ]
          },
          "metadata": {},
          "execution_count": 6
        }
      ],
      "source": [
        "# read difussion data\n",
        "data, affine = load_nifti(main_dir+'/case_02/input/DWI_opt.nii.gz')\n",
        "data.shape"
      ],
      "id": "60d8c0a1-5f64-45df-8f37-ad4bb05748e9"
    },
    {
      "cell_type": "code",
      "execution_count": null,
      "metadata": {
        "colab": {
          "base_uri": "https://localhost:8080/"
        },
        "id": "9f146567-43fb-443d-9580-79b2766022da",
        "outputId": "dd0bcbd9-216c-40db-b754-ba47c685023b"
      },
      "outputs": [
        {
          "output_type": "execute_result",
          "data": {
            "text/plain": [
              "(112, 112, 70)"
            ]
          },
          "metadata": {},
          "execution_count": 7
        }
      ],
      "source": [
        "# read difussion data\n",
        "output, _ = load_nifti(main_dir+'/case_02/output/DTI_FA.nii.gz')\n",
        "output.shape"
      ],
      "id": "9f146567-43fb-443d-9580-79b2766022da"
    },
    {
      "cell_type": "code",
      "execution_count": null,
      "metadata": {
        "colab": {
          "base_uri": "https://localhost:8080/",
          "height": 536
        },
        "id": "8aabfcb1-23b5-415a-994c-22ee55f5ddeb",
        "outputId": "f984e856-4513-4aaa-b594-d4c4ceba3d47"
      },
      "outputs": [
        {
          "output_type": "execute_result",
          "data": {
            "text/plain": [
              "<matplotlib.image.AxesImage at 0x7aad12e9cf40>"
            ]
          },
          "metadata": {},
          "execution_count": 8
        },
        {
          "output_type": "display_data",
          "data": {
            "text/plain": [
              "<Figure size 1600x800 with 2 Axes>"
            ],
            "image/png": "[encoded data removed]"
          },
          "metadata": {}
        }
      ],
      "source": [
        "plt.figure(figsize=(16,8))\n",
        "plt.subplot(1, 2, 1).set_axis_off()\n",
        "plt.imshow(data[:, :, 35, 0], cmap='gray', origin='lower')\n",
        "plt.subplot(1, 2, 2).set_axis_off()\n",
        "plt.imshow(output[:, :, 35], cmap='gray', origin='lower')"
      ],
      "id": "8aabfcb1-23b5-415a-994c-22ee55f5ddeb"
    },
    {
      "cell_type": "code",
      "execution_count": null,
      "metadata": {
        "id": "01c3f5b4-7aac-4771-9ddf-b198936d177f"
      },
      "outputs": [],
      "source": [
        "# input channels\n",
        "signals = 7\n",
        "# define training parameters\n",
        "batches = 10\n",
        "epochs = 80\n",
        "test_size = 0.1\n",
        "start_epoch = 0\n",
        "# optimizer parameters\n",
        "lr = 1e-7\n",
        "weight_decay = 1e-6\n",
        "gamma = 0.8 #for learning rate scheduler\n",
        "step_size = 1\n",
        "seed = 24\n",
        "# select available device\n",
        "device = torch.device(\"cuda\" if torch.cuda.is_available() else \"cpu\")"
      ],
      "id": "01c3f5b4-7aac-4771-9ddf-b198936d177f"
    },
    {
      "cell_type": "code",
      "execution_count": null,
      "metadata": {
        "id": "6VRu2jHShsHw"
      },
      "outputs": [],
      "source": [
        "# folders dataset\n",
        "main_dir = ['/content/drive/MyDrive/dti-transformer/dti_data/INUTR']"
      ],
      "id": "6VRu2jHShsHw"
    },
    {
      "cell_type": "code",
      "execution_count": null,
      "metadata": {
        "colab": {
          "base_uri": "https://localhost:8080/"
        },
        "id": "eutJDYJIt1lI",
        "outputId": "125281de-1524-489a-c229-ea8fdcd6afe5"
      },
      "outputs": [
        {
          "output_type": "stream",
          "name": "stdout",
          "text": [
            "Train Data: 63\n",
            "Validation Data: 8\n"
          ]
        }
      ],
      "source": [
        "# load dataset\n",
        "maps = [\"FA\"] #\"MD\",\"MO\",\"L1\",\"L2\",\"L3\"\n",
        "train_list, valid_list, train_loader, valid_loader = get_dataset(main_dir, test_size, batches, maps=maps, signals=signals, dti_folder='output')"
      ],
      "id": "eutJDYJIt1lI"
    },
    {
      "cell_type": "code",
      "execution_count": null,
      "metadata": {
        "id": "90269e63-ebc9-4562-8f0d-29c64237d9e4"
      },
      "outputs": [],
      "source": [
        "# load model\n",
        "model = DiffusionTensorModel(\n",
        "    in_chans=signals,\n",
        "    out_chans=1,\n",
        "    img_size=140,\n",
        "    embed_dim=64,\n",
        "    n_heads=[1,2,4,8],\n",
        "    mlp_ratio=[2,2,4,4],\n",
        "    reduction_ratio=1,\n",
        "    depth_prob=0.2,\n",
        "    tanh_output=False\n",
        ")\n",
        "# loss function\n",
        "criterion = nn.MSELoss()\n",
        "# optimizer\n",
        "optimizer = optim.Adam(model.parameters(), lr=lr, weight_decay=weight_decay)\n",
        "# scheduler\n",
        "scheduler = StepLR(optimizer, step_size=step_size, gamma=gamma)"
      ],
      "id": "90269e63-ebc9-4562-8f0d-29c64237d9e4"
    },
    {
      "cell_type": "code",
      "execution_count": null,
      "metadata": {
        "id": "818ff608-124a-4d6b-9c7f-362262f02d07"
      },
      "outputs": [],
      "source": [
        "device\n",
        "# copy model to gpu\n",
        "_ = model.to(device)"
      ],
      "id": "818ff608-124a-4d6b-9c7f-362262f02d07"
    },
    {
      "cell_type": "code",
      "execution_count": null,
      "metadata": {
        "colab": {
          "base_uri": "https://localhost:8080/"
        },
        "id": "491c09db-7a4c-403b-8004-7f0169e30260",
        "outputId": "6ebcf392-e477-4688-830b-5c904207b107"
      },
      "outputs": [
        {
          "output_type": "stream",
          "name": "stdout",
          "text": [
            "Enabling notebook extension jupyter-js-widgets/extension...\n",
            "Paths used for configuration of notebook: \n",
            "    \t/root/.jupyter/nbconfig/notebook.json\n",
            "Paths used for configuration of notebook: \n",
            "    \t\n",
            "      - Validating: \u001b[32mOK\u001b[0m\n",
            "Paths used for configuration of notebook: \n",
            "    \t/root/.jupyter/nbconfig/notebook.json\n"
          ]
        }
      ],
      "source": [
        "# enable training graphics widget\n",
        "!jupyter nbextension enable --py widgetsnbextension"
      ],
      "id": "491c09db-7a4c-403b-8004-7f0169e30260"
    },
    {
      "cell_type": "code",
      "execution_count": null,
      "metadata": {
        "id": "3F4mKFeB8E8I"
      },
      "outputs": [],
      "source": [
        "# model weights path\n",
        "model_path = results_path+\"/dti_fa.weights\" if continue_training else results_path+\"/../dti_fa.weights\"\n",
        "ch_path = results_path+\"/opt.pt.tar\""
      ],
      "id": "3F4mKFeB8E8I"
    },
    {
      "cell_type": "code",
      "execution_count": null,
      "metadata": {
        "id": "VdFTaw21pE4S"
      },
      "outputs": [],
      "source": [
        "# load model and parameters to keep training\n",
        "if continue_training:\n",
        "    checkpoint = torch.load(ch_path)\n",
        "    start_epoch = int(checkpoint['epoch'])\n",
        "    model.load_state_dict(checkpoint['model_state_dict'])\n",
        "    optimizer.load_state_dict(checkpoint['optimizer_state_dict'])\n",
        "    scheduler.load_state_dict(checkpoint['scheduler_state_dict'])\n",
        "else:\n",
        "    model.load_state_dict(torch.load(model_path))"
      ],
      "id": "VdFTaw21pE4S"
    },
    {
      "cell_type": "code",
      "execution_count": null,
      "metadata": {
        "colab": {
          "base_uri": "https://localhost:8080/"
        },
        "id": "fc99fe04-cb5f-4eae-b7f5-cf4f90925ebd",
        "outputId": "f6d6ecb5-5a47-4675-c6ad-2e4f0aecf1a3"
      },
      "outputs": [
        {
          "output_type": "stream",
          "name": "stdout",
          "text": [
            "Trainable parameters:  35209439\n"
          ]
        }
      ],
      "source": [
        "# set model on training mode\n",
        "_ = model.train()\n",
        "# set a uid for training (with random alphanumeric chars)\n",
        "train_uid = \"_cltraining-\"+str(start_epoch)\n",
        "# get trainable parameters\n",
        "print(\"Trainable parameters: \", get_params(model))"
      ],
      "id": "fc99fe04-cb5f-4eae-b7f5-cf4f90925ebd"
    },
    {
      "cell_type": "code",
      "execution_count": null,
      "metadata": {
        "colab": {
          "base_uri": "https://localhost:8080/",
          "height": 275,
          "referenced_widgets": [
            "a389f6545ff640cfbbf8484efbdcfde9",
            "a10c856705a0444d9871de1261bf6ae1",
            "bb2f52102c59452fabfd34d1e93e1954",
            "8f8f28caa0664f95aa1e0e512d1487e7",
            "da852d744f8f4f15b41a1611aae3f0c0",
            "37d330dd07124c72adcfa9a7707c6828",
            "9bc713d5d39947bd85a6787480adc69a",
            "dd7549bc70794bfda3413b603eb53af1",
            "29619c154ee844faabedba9203ad6aef",
            "03c96a1abd6e4ff1be6e108343cd4212",
            "3692c82c56ed4c2b9d37678ad7aabe87",
            "3b955f9da6c5481db223ca2fde9f68d0",
            "7b1b810fcca04d75958107884288ecb8",
            "8bac627db95649e2b1024978c2c57c2f",
            "06a5e7ce77f944c58a581963b6f27e40",
            "1b5f261d871045e4b8fc8563dbadc9e2",
            "fadfce5b844643ee9b6532e104f4fef6",
            "42fd8c8ae87443328b483c8643655906",
            "1bc88c01f4154c99906f5ea3f631244a",
            "4eefc5bfdaef423681921ffadefcdfa7",
            "d7041761190e4cea92411dc5f08aa1b3",
            "76bc62edbfd54637b09efb66536d32b3"
          ]
        },
        "id": "d1168d0e-50e4-4b15-8887-350d6ea33a9c",
        "outputId": "374fc377-202a-408c-a5f3-4e1c23e64cc9"
      },
      "outputs": [
        {
          "output_type": "display_data",
          "data": {
            "text/plain": [
              "  0%|          | 0/11 [00:00<?, ?it/s]"
            ],
            "application/vnd.jupyter.widget-view+json": {
              "version_major": 2,
              "version_minor": 0,
              "model_id": "a389f6545ff640cfbbf8484efbdcfde9"
            }
          },
          "metadata": {}
        },
        {
          "output_type": "stream",
          "name": "stderr",
          "text": [
            "/usr/local/lib/python3.10/dist-packages/torch/nn/modules/conv.py:456: UserWarning: Plan failed with a cudnnException: CUDNN_BACKEND_EXECUTION_PLAN_DESCRIPTOR: cudnnFinalize Descriptor Failed cudnn_status: CUDNN_STATUS_NOT_SUPPORTED (Triggered internally at ../aten/src/ATen/native/cudnn/Conv_v8.cpp:919.)\n",
            "  return F.conv2d(input, weight, bias, self.stride,\n",
            "/usr/local/lib/python3.10/dist-packages/torch/autograd/graph.py:744: UserWarning: Plan failed with a cudnnException: CUDNN_BACKEND_EXECUTION_PLAN_DESCRIPTOR: cudnnFinalize Descriptor Failed cudnn_status: CUDNN_STATUS_NOT_SUPPORTED (Triggered internally at ../aten/src/ATen/native/cudnn/Conv_v8.cpp:919.)\n",
            "  return Variable._execution_engine.run_backward(  # Calls into the C++ engine to run the backward pass\n"
          ]
        },
        {
          "output_type": "stream",
          "name": "stdout",
          "text": [
            "Epoch: 79  -  train loss: 0.00160086  -  valid loss: 0.00147843 \n",
            "\n"
          ]
        },
        {
          "output_type": "display_data",
          "data": {
            "text/plain": [
              "  0%|          | 0/11 [00:00<?, ?it/s]"
            ],
            "application/vnd.jupyter.widget-view+json": {
              "version_major": 2,
              "version_minor": 0,
              "model_id": "3b955f9da6c5481db223ca2fde9f68d0"
            }
          },
          "metadata": {}
        },
        {
          "output_type": "stream",
          "name": "stdout",
          "text": [
            "Epoch: 80  -  train loss: 0.00159474  -  valid loss: 0.00147956 \n",
            "\n",
            "\n",
            "Training finished\n"
          ]
        }
      ],
      "source": [
        "#start training\n",
        "ep_loss = []\n",
        "# error variables\n",
        "prev_error = float(\"inf\")\n",
        "#seed_everything(seed)\n",
        "for epoch in range(start_epoch, epochs):\n",
        "    epoch_loss = 0.\n",
        "    for batch_data, batch_label in tqdm(train_loader):\n",
        "        batch_range = list(range(batch_data.shape[0]))\n",
        "        shuffle(batch_range)\n",
        "        for i in batch_range:\n",
        "            slice_data = batch_data[i].to(device)\n",
        "            slice_label = batch_label[i].to(device)\n",
        "            samples_t = slice_data.shape[0]\n",
        "            s_counter = 0\n",
        "            slice_range = list(range(samples_t))\n",
        "            shuffle(slice_range)\n",
        "            for s in slice_range:\n",
        "                s_counter += 1\n",
        "                data = slice_data[s]\n",
        "                label = slice_label[s]\n",
        "\n",
        "                # forward - evaluate model\n",
        "                output = model(data)\n",
        "                loss = criterion(output, label)\n",
        "                # backward propagation\n",
        "                loss.backward()\n",
        "\n",
        "                # loss average\n",
        "                epoch_loss += loss.item()\n",
        "\n",
        "                #if s_counter%48==0:\n",
        "            # optimize model - update network weights\n",
        "            optimizer.step()\n",
        "            # zero the parameter gradient\n",
        "            optimizer.zero_grad()\n",
        "\n",
        "    # calculate loss on validation set\n",
        "    epoch_val_loss = 0\n",
        "    with torch.no_grad():\n",
        "        for batch_data, batch_label in valid_loader:\n",
        "            for i in range(batch_data.shape[0]):\n",
        "                slice_data = batch_data[i].to(device)\n",
        "                slice_label = batch_label[i].to(device)\n",
        "                samples_v = slice_data.shape[0]\n",
        "                for s in range(samples_v):\n",
        "                    data = slice_data[s]\n",
        "                    label = slice_label[s]\n",
        "                    # evaluate model on validation case\n",
        "                    val_output = model(data)\n",
        "                    val_loss = criterion(val_output, label)\n",
        "                    # validation loss\n",
        "                    epoch_val_loss += val_loss.item()\n",
        "\n",
        "    # append to epoch array\n",
        "    epoch_loss = epoch_loss/(len(train_list)*samples_t)\n",
        "    epoch_val_loss = epoch_val_loss/(len(valid_list)*samples_v)\n",
        "    ep_loss.append([epoch_loss,epoch_val_loss])\n",
        "    # adjust learning rate in case the error did not decrease\n",
        "    if prev_error<epoch_loss:\n",
        "        scheduler.step()\n",
        "    # assign epoch loss to next comparisson\n",
        "    prev_error = epoch_loss\n",
        "    # save error list\n",
        "    try:\n",
        "        pd.DataFrame(ep_loss).to_csv(results_path+\"/training_loss\"+train_uid+\".csv\",index=False, header=False)\n",
        "    except Exception as e:\n",
        "        print(\"Error saving loss data\")\n",
        "        drive.mount(mount_path, force_remount=True)\n",
        "        os.chdir(drive_path)\n",
        "    # save model weights and training parameters\n",
        "    try:\n",
        "        torch.save({'epoch': epoch+1,\n",
        "                    'model_state_dict': model.state_dict(),\n",
        "                    'optimizer_state_dict': optimizer.state_dict(),\n",
        "                    'scheduler_state_dict': scheduler.state_dict()\n",
        "                    }, ch_path)\n",
        "    except Exception as e:\n",
        "        print(\"Error saving model: \", e)\n",
        "        drive.mount(mount_path, force_remount=True)\n",
        "        os.chdir(drive_path)\n",
        "    # print epoch metrics\n",
        "    print(\n",
        "        f\"Epoch: {epoch+1}  -  train loss: {epoch_loss:.8f}  -  valid loss: {epoch_val_loss:.8f} \\n\"\n",
        "    )\n",
        "# return model to cpu\n",
        "_ = model.to(\"cpu\")\n",
        "# save final model\n",
        "torch.save(model.state_dict(), model_path)\n",
        "# complete\n",
        "print(\"\\nTraining finished\")"
      ],
      "id": "d1168d0e-50e4-4b15-8887-350d6ea33a9c"
    },
    {
      "cell_type": "code",
      "execution_count": null,
      "metadata": {
        "id": "9f97a7ca-120b-452f-8836-5ec6e3266b95"
      },
      "outputs": [],
      "source": [
        "# evaluate model\n",
        "data, label = data_preprocessing(valid_list[0], maps=maps, signals=signals, dti_folder='output')\n",
        "data_val, label_val = data[35], label[35]"
      ],
      "id": "9f97a7ca-120b-452f-8836-5ec6e3266b95"
    },
    {
      "cell_type": "code",
      "execution_count": null,
      "metadata": {
        "id": "3e4c6bef-af0d-4856-988f-dbe832421430"
      },
      "outputs": [],
      "source": [
        "_ = model.to(\"cpu\")\n",
        "model.eval()\n",
        "with torch.no_grad():\n",
        "    output = model(data_val)"
      ],
      "id": "3e4c6bef-af0d-4856-988f-dbe832421430"
    },
    {
      "cell_type": "code",
      "execution_count": null,
      "metadata": {
        "id": "3a366a9c-fc30-4b92-af7f-04c9ac536d9e",
        "colab": {
          "base_uri": "https://localhost:8080/"
        },
        "outputId": "a4b78ea9-3afa-4c0f-b5e5-84b5ac4ca79a"
      },
      "outputs": [
        {
          "output_type": "stream",
          "name": "stdout",
          "text": [
            "Data:  torch.Size([96, 7, 140, 140])\n",
            "Label:  torch.Size([96, 140, 140])\n",
            "Data to evaluate:  torch.Size([7, 140, 140])\n",
            "Label to evaluate:  torch.Size([140, 140])\n",
            "Output:  torch.Size([140, 140])\n"
          ]
        }
      ],
      "source": [
        "print(\"Data: \",data.shape)\n",
        "print(\"Label: \",label.shape)\n",
        "print(\"Data to evaluate: \",data_val.shape)\n",
        "print(\"Label to evaluate: \",label_val.shape)\n",
        "print(\"Output: \",output.shape)"
      ],
      "id": "3a366a9c-fc30-4b92-af7f-04c9ac536d9e"
    },
    {
      "cell_type": "code",
      "execution_count": null,
      "metadata": {
        "id": "6e4e71c0-0456-4fc9-a4f8-c62d8add2463"
      },
      "outputs": [],
      "source": [
        "# detach data\n",
        "data_eval_np = data_val.detach().numpy()\n",
        "label_eval_np = label_val.detach().numpy()\n",
        "output_eval_np = output.detach().numpy()"
      ],
      "id": "6e4e71c0-0456-4fc9-a4f8-c62d8add2463"
    },
    {
      "cell_type": "code",
      "execution_count": null,
      "metadata": {
        "id": "306cebe5-a5de-47eb-af28-c63285b3c0b9",
        "colab": {
          "base_uri": "https://localhost:8080/",
          "height": 512
        },
        "outputId": "04ef93b7-af81-43c8-82cb-75a40d408ad4"
      },
      "outputs": [
        {
          "output_type": "display_data",
          "data": {
            "text/plain": [
              "<Figure size 2000x1200 with 3 Axes>"
            ],
            "image/png": "[encoded data removed]"
          },
          "metadata": {}
        }
      ],
      "source": [
        "# print visual evaluation\n",
        "plt.figure(figsize=(20,12))\n",
        "plt.subplot(1, 3, 1).set_axis_off()\n",
        "plt.imshow(data_eval_np[0], cmap='gray', origin='lower')\n",
        "plt.subplot(1, 3, 2).set_axis_off()\n",
        "plt.imshow(label_eval_np, cmap='gray', origin='lower')\n",
        "plt.subplot(1, 3, 3).set_axis_off()\n",
        "plt.imshow(output_eval_np, cmap='gray', origin='lower')\n",
        "plt.savefig(results_path+\"/fa_result.png\")"
      ],
      "id": "306cebe5-a5de-47eb-af28-c63285b3c0b9"
    },
    {
      "cell_type": "code",
      "execution_count": null,
      "metadata": {
        "id": "KYb66jZVS5bX",
        "colab": {
          "base_uri": "https://localhost:8080/",
          "height": 461
        },
        "outputId": "ab539d24-d6de-4f7a-f3de-8e67d07c11c8"
      },
      "outputs": [
        {
          "output_type": "execute_result",
          "data": {
            "text/plain": [
              "<matplotlib.image.AxesImage at 0x7aad036d8f70>"
            ]
          },
          "metadata": {},
          "execution_count": 24
        },
        {
          "output_type": "display_data",
          "data": {
            "text/plain": [
              "<Figure size 640x480 with 1 Axes>"
            ],
            "image/png": "[encoded data removed]"
          },
          "metadata": {}
        }
      ],
      "source": [
        "res = label_eval_np-output_eval_np\n",
        "plt.imshow(res, cmap='magma_r', origin='lower')"
      ],
      "id": "KYb66jZVS5bX"
    },
    {
      "cell_type": "code",
      "execution_count": null,
      "metadata": {
        "id": "NW_cUgbHeFW4"
      },
      "outputs": [],
      "source": [],
      "id": "NW_cUgbHeFW4"
    }
  ],
  "metadata": {
    "accelerator": "GPU",
    "colab": {
      "provenance": [],
      "gpuType": "T4"
    },
    "kernelspec": {
      "display_name": "Python 3",
      "name": "python3"
    },
    "language_info": {
      "codemirror_mode": {
        "name": "ipython",
        "version": 3
      },
      "file_extension": ".py",
      "mimetype": "text/x-python",
      "name": "python",
      "nbconvert_exporter": "python",
      "pygments_lexer": "ipython3",
      "version": "3.8.10"
    },
    "toc-showmarkdowntxt": false,
    "widgets": {
      "application/vnd.jupyter.widget-state+json": {
        "a389f6545ff640cfbbf8484efbdcfde9": {
          "model_module": "@jupyter-widgets/controls",
          "model_name": "HBoxModel",
          "model_module_version": "1.5.0",
          "state": {
            "_dom_classes": [],
            "_model_module": "@jupyter-widgets/controls",
            "_model_module_version": "1.5.0",
            "_model_name": "HBoxModel",
            "_view_count": null,
            "_view_module": "@jupyter-widgets/controls",
            "_view_module_version": "1.5.0",
            "_view_name": "HBoxView",
            "box_style": "",
            "children": [
              "IPY_MODEL_a10c856705a0444d9871de1261bf6ae1",
              "IPY_MODEL_bb2f52102c59452fabfd34d1e93e1954",
              "IPY_MODEL_8f8f28caa0664f95aa1e0e512d1487e7"
            ],
            "layout": "IPY_MODEL_da852d744f8f4f15b41a1611aae3f0c0"
          }
        },
        "a10c856705a0444d9871de1261bf6ae1": {
          "model_module": "@jupyter-widgets/controls",
          "model_name": "HTMLModel",
          "model_module_version": "1.5.0",
          "state": {
            "_dom_classes": [],
            "_model_module": "@jupyter-widgets/controls",
            "_model_module_version": "1.5.0",
            "_model_name": "HTMLModel",
            "_view_count": null,
            "_view_module": "@jupyter-widgets/controls",
            "_view_module_version": "1.5.0",
            "_view_name": "HTMLView",
            "description": "",
            "description_tooltip": null,
            "layout": "IPY_MODEL_37d330dd07124c72adcfa9a7707c6828",
            "placeholder": "​",
            "style": "IPY_MODEL_9bc713d5d39947bd85a6787480adc69a",
            "value": "100%"
          }
        },
        "bb2f52102c59452fabfd34d1e93e1954": {
          "model_module": "@jupyter-widgets/controls",
          "model_name": "FloatProgressModel",
          "model_module_version": "1.5.0",
          "state": {
            "_dom_classes": [],
            "_model_module": "@jupyter-widgets/controls",
            "_model_module_version": "1.5.0",
            "_model_name": "FloatProgressModel",
            "_view_count": null,
            "_view_module": "@jupyter-widgets/controls",
            "_view_module_version": "1.5.0",
            "_view_name": "ProgressView",
            "bar_style": "success",
            "description": "",
            "description_tooltip": null,
            "layout": "IPY_MODEL_dd7549bc70794bfda3413b603eb53af1",
            "max": 11,
            "min": 0,
            "orientation": "horizontal",
            "style": "IPY_MODEL_29619c154ee844faabedba9203ad6aef",
            "value": 11
          }
        },
        "8f8f28caa0664f95aa1e0e512d1487e7": {
          "model_module": "@jupyter-widgets/controls",
          "model_name": "HTMLModel",
          "model_module_version": "1.5.0",
          "state": {
            "_dom_classes": [],
            "_model_module": "@jupyter-widgets/controls",
            "_model_module_version": "1.5.0",
            "_model_name": "HTMLModel",
            "_view_count": null,
            "_view_module": "@jupyter-widgets/controls",
            "_view_module_version": "1.5.0",
            "_view_name": "HTMLView",
            "description": "",
            "description_tooltip": null,
            "layout": "IPY_MODEL_03c96a1abd6e4ff1be6e108343cd4212",
            "placeholder": "​",
            "style": "IPY_MODEL_3692c82c56ed4c2b9d37678ad7aabe87",
            "value": " 11/11 [12:14&lt;00:00, 58.07s/it]"
          }
        },
        "da852d744f8f4f15b41a1611aae3f0c0": {
          "model_module": "@jupyter-widgets/base",
          "model_name": "LayoutModel",
          "model_module_version": "1.2.0",
          "state": {
            "_model_module": "@jupyter-widgets/base",
            "_model_module_version": "1.2.0",
            "_model_name": "LayoutModel",
            "_view_count": null,
            "_view_module": "@jupyter-widgets/base",
            "_view_module_version": "1.2.0",
            "_view_name": "LayoutView",
            "align_content": null,
            "align_items": null,
            "align_self": null,
            "border": null,
            "bottom": null,
            "display": null,
            "flex": null,
            "flex_flow": null,
            "grid_area": null,
            "grid_auto_columns": null,
            "grid_auto_flow": null,
            "grid_auto_rows": null,
            "grid_column": null,
            "grid_gap": null,
            "grid_row": null,
            "grid_template_areas": null,
            "grid_template_columns": null,
            "grid_template_rows": null,
            "height": null,
            "justify_content": null,
            "justify_items": null,
            "left": null,
            "margin": null,
            "max_height": null,
            "max_width": null,
            "min_height": null,
            "min_width": null,
            "object_fit": null,
            "object_position": null,
            "order": null,
            "overflow": null,
            "overflow_x": null,
            "overflow_y": null,
            "padding": null,
            "right": null,
            "top": null,
            "visibility": null,
            "width": null
          }
        },
        "37d330dd07124c72adcfa9a7707c6828": {
          "model_module": "@jupyter-widgets/base",
          "model_name": "LayoutModel",
          "model_module_version": "1.2.0",
          "state": {
            "_model_module": "@jupyter-widgets/base",
            "_model_module_version": "1.2.0",
            "_model_name": "LayoutModel",
            "_view_count": null,
            "_view_module": "@jupyter-widgets/base",
            "_view_module_version": "1.2.0",
            "_view_name": "LayoutView",
            "align_content": null,
            "align_items": null,
            "align_self": null,
            "border": null,
            "bottom": null,
            "display": null,
            "flex": null,
            "flex_flow": null,
            "grid_area": null,
            "grid_auto_columns": null,
            "grid_auto_flow": null,
            "grid_auto_rows": null,
            "grid_column": null,
            "grid_gap": null,
            "grid_row": null,
            "grid_template_areas": null,
            "grid_template_columns": null,
            "grid_template_rows": null,
            "height": null,
            "justify_content": null,
            "justify_items": null,
            "left": null,
            "margin": null,
            "max_height": null,
            "max_width": null,
            "min_height": null,
            "min_width": null,
            "object_fit": null,
            "object_position": null,
            "order": null,
            "overflow": null,
            "overflow_x": null,
            "overflow_y": null,
            "padding": null,
            "right": null,
            "top": null,
            "visibility": null,
            "width": null
          }
        },
        "9bc713d5d39947bd85a6787480adc69a": {
          "model_module": "@jupyter-widgets/controls",
          "model_name": "DescriptionStyleModel",
          "model_module_version": "1.5.0",
          "state": {
            "_model_module": "@jupyter-widgets/controls",
            "_model_module_version": "1.5.0",
            "_model_name": "DescriptionStyleModel",
            "_view_count": null,
            "_view_module": "@jupyter-widgets/base",
            "_view_module_version": "1.2.0",
            "_view_name": "StyleView",
            "description_width": ""
          }
        },
        "dd7549bc70794bfda3413b603eb53af1": {
          "model_module": "@jupyter-widgets/base",
          "model_name": "LayoutModel",
          "model_module_version": "1.2.0",
          "state": {
            "_model_module": "@jupyter-widgets/base",
            "_model_module_version": "1.2.0",
            "_model_name": "LayoutModel",
            "_view_count": null,
            "_view_module": "@jupyter-widgets/base",
            "_view_module_version": "1.2.0",
            "_view_name": "LayoutView",
            "align_content": null,
            "align_items": null,
            "align_self": null,
            "border": null,
            "bottom": null,
            "display": null,
            "flex": null,
            "flex_flow": null,
            "grid_area": null,
            "grid_auto_columns": null,
            "grid_auto_flow": null,
            "grid_auto_rows": null,
            "grid_column": null,
            "grid_gap": null,
            "grid_row": null,
            "grid_template_areas": null,
            "grid_template_columns": null,
            "grid_template_rows": null,
            "height": null,
            "justify_content": null,
            "justify_items": null,
            "left": null,
            "margin": null,
            "max_height": null,
            "max_width": null,
            "min_height": null,
            "min_width": null,
            "object_fit": null,
            "object_position": null,
            "order": null,
            "overflow": null,
            "overflow_x": null,
            "overflow_y": null,
            "padding": null,
            "right": null,
            "top": null,
            "visibility": null,
            "width": null
          }
        },
        "29619c154ee844faabedba9203ad6aef": {
          "model_module": "@jupyter-widgets/controls",
          "model_name": "ProgressStyleModel",
          "model_module_version": "1.5.0",
          "state": {
            "_model_module": "@jupyter-widgets/controls",
            "_model_module_version": "1.5.0",
            "_model_name": "ProgressStyleModel",
            "_view_count": null,
            "_view_module": "@jupyter-widgets/base",
            "_view_module_version": "1.2.0",
            "_view_name": "StyleView",
            "bar_color": null,
            "description_width": ""
          }
        },
        "03c96a1abd6e4ff1be6e108343cd4212": {
          "model_module": "@jupyter-widgets/base",
          "model_name": "LayoutModel",
          "model_module_version": "1.2.0",
          "state": {
            "_model_module": "@jupyter-widgets/base",
            "_model_module_version": "1.2.0",
            "_model_name": "LayoutModel",
            "_view_count": null,
            "_view_module": "@jupyter-widgets/base",
            "_view_module_version": "1.2.0",
            "_view_name": "LayoutView",
            "align_content": null,
            "align_items": null,
            "align_self": null,
            "border": null,
            "bottom": null,
            "display": null,
            "flex": null,
            "flex_flow": null,
            "grid_area": null,
            "grid_auto_columns": null,
            "grid_auto_flow": null,
            "grid_auto_rows": null,
            "grid_column": null,
            "grid_gap": null,
            "grid_row": null,
            "grid_template_areas": null,
            "grid_template_columns": null,
            "grid_template_rows": null,
            "height": null,
            "justify_content": null,
            "justify_items": null,
            "left": null,
            "margin": null,
            "max_height": null,
            "max_width": null,
            "min_height": null,
            "min_width": null,
            "object_fit": null,
            "object_position": null,
            "order": null,
            "overflow": null,
            "overflow_x": null,
            "overflow_y": null,
            "padding": null,
            "right": null,
            "top": null,
            "visibility": null,
            "width": null
          }
        },
        "3692c82c56ed4c2b9d37678ad7aabe87": {
          "model_module": "@jupyter-widgets/controls",
          "model_name": "DescriptionStyleModel",
          "model_module_version": "1.5.0",
          "state": {
            "_model_module": "@jupyter-widgets/controls",
            "_model_module_version": "1.5.0",
            "_model_name": "DescriptionStyleModel",
            "_view_count": null,
            "_view_module": "@jupyter-widgets/base",
            "_view_module_version": "1.2.0",
            "_view_name": "StyleView",
            "description_width": ""
          }
        },
        "3b955f9da6c5481db223ca2fde9f68d0": {
          "model_module": "@jupyter-widgets/controls",
          "model_name": "HBoxModel",
          "model_module_version": "1.5.0",
          "state": {
            "_dom_classes": [],
            "_model_module": "@jupyter-widgets/controls",
            "_model_module_version": "1.5.0",
            "_model_name": "HBoxModel",
            "_view_count": null,
            "_view_module": "@jupyter-widgets/controls",
            "_view_module_version": "1.5.0",
            "_view_name": "HBoxView",
            "box_style": "",
            "children": [
              "IPY_MODEL_7b1b810fcca04d75958107884288ecb8",
              "IPY_MODEL_8bac627db95649e2b1024978c2c57c2f",
              "IPY_MODEL_06a5e7ce77f944c58a581963b6f27e40"
            ],
            "layout": "IPY_MODEL_1b5f261d871045e4b8fc8563dbadc9e2"
          }
        },
        "7b1b810fcca04d75958107884288ecb8": {
          "model_module": "@jupyter-widgets/controls",
          "model_name": "HTMLModel",
          "model_module_version": "1.5.0",
          "state": {
            "_dom_classes": [],
            "_model_module": "@jupyter-widgets/controls",
            "_model_module_version": "1.5.0",
            "_model_name": "HTMLModel",
            "_view_count": null,
            "_view_module": "@jupyter-widgets/controls",
            "_view_module_version": "1.5.0",
            "_view_name": "HTMLView",
            "description": "",
            "description_tooltip": null,
            "layout": "IPY_MODEL_fadfce5b844643ee9b6532e104f4fef6",
            "placeholder": "​",
            "style": "IPY_MODEL_42fd8c8ae87443328b483c8643655906",
            "value": "100%"
          }
        },
        "8bac627db95649e2b1024978c2c57c2f": {
          "model_module": "@jupyter-widgets/controls",
          "model_name": "FloatProgressModel",
          "model_module_version": "1.5.0",
          "state": {
            "_dom_classes": [],
            "_model_module": "@jupyter-widgets/controls",
            "_model_module_version": "1.5.0",
            "_model_name": "FloatProgressModel",
            "_view_count": null,
            "_view_module": "@jupyter-widgets/controls",
            "_view_module_version": "1.5.0",
            "_view_name": "ProgressView",
            "bar_style": "success",
            "description": "",
            "description_tooltip": null,
            "layout": "IPY_MODEL_1bc88c01f4154c99906f5ea3f631244a",
            "max": 11,
            "min": 0,
            "orientation": "horizontal",
            "style": "IPY_MODEL_4eefc5bfdaef423681921ffadefcdfa7",
            "value": 11
          }
        },
        "06a5e7ce77f944c58a581963b6f27e40": {
          "model_module": "@jupyter-widgets/controls",
          "model_name": "HTMLModel",
          "model_module_version": "1.5.0",
          "state": {
            "_dom_classes": [],
            "_model_module": "@jupyter-widgets/controls",
            "_model_module_version": "1.5.0",
            "_model_name": "HTMLModel",
            "_view_count": null,
            "_view_module": "@jupyter-widgets/controls",
            "_view_module_version": "1.5.0",
            "_view_name": "HTMLView",
            "description": "",
            "description_tooltip": null,
            "layout": "IPY_MODEL_d7041761190e4cea92411dc5f08aa1b3",
            "placeholder": "​",
            "style": "IPY_MODEL_76bc62edbfd54637b09efb66536d32b3",
            "value": " 11/11 [09:30&lt;00:00, 45.82s/it]"
          }
        },
        "1b5f261d871045e4b8fc8563dbadc9e2": {
          "model_module": "@jupyter-widgets/base",
          "model_name": "LayoutModel",
          "model_module_version": "1.2.0",
          "state": {
            "_model_module": "@jupyter-widgets/base",
            "_model_module_version": "1.2.0",
            "_model_name": "LayoutModel",
            "_view_count": null,
            "_view_module": "@jupyter-widgets/base",
            "_view_module_version": "1.2.0",
            "_view_name": "LayoutView",
            "align_content": null,
            "align_items": null,
            "align_self": null,
            "border": null,
            "bottom": null,
            "display": null,
            "flex": null,
            "flex_flow": null,
            "grid_area": null,
            "grid_auto_columns": null,
            "grid_auto_flow": null,
            "grid_auto_rows": null,
            "grid_column": null,
            "grid_gap": null,
            "grid_row": null,
            "grid_template_areas": null,
            "grid_template_columns": null,
            "grid_template_rows": null,
            "height": null,
            "justify_content": null,
            "justify_items": null,
            "left": null,
            "margin": null,
            "max_height": null,
            "max_width": null,
            "min_height": null,
            "min_width": null,
            "object_fit": null,
            "object_position": null,
            "order": null,
            "overflow": null,
            "overflow_x": null,
            "overflow_y": null,
            "padding": null,
            "right": null,
            "top": null,
            "visibility": null,
            "width": null
          }
        },
        "fadfce5b844643ee9b6532e104f4fef6": {
          "model_module": "@jupyter-widgets/base",
          "model_name": "LayoutModel",
          "model_module_version": "1.2.0",
          "state": {
            "_model_module": "@jupyter-widgets/base",
            "_model_module_version": "1.2.0",
            "_model_name": "LayoutModel",
            "_view_count": null,
            "_view_module": "@jupyter-widgets/base",
            "_view_module_version": "1.2.0",
            "_view_name": "LayoutView",
            "align_content": null,
            "align_items": null,
            "align_self": null,
            "border": null,
            "bottom": null,
            "display": null,
            "flex": null,
            "flex_flow": null,
            "grid_area": null,
            "grid_auto_columns": null,
            "grid_auto_flow": null,
            "grid_auto_rows": null,
            "grid_column": null,
            "grid_gap": null,
            "grid_row": null,
            "grid_template_areas": null,
            "grid_template_columns": null,
            "grid_template_rows": null,
            "height": null,
            "justify_content": null,
            "justify_items": null,
            "left": null,
            "margin": null,
            "max_height": null,
            "max_width": null,
            "min_height": null,
            "min_width": null,
            "object_fit": null,
            "object_position": null,
            "order": null,
            "overflow": null,
            "overflow_x": null,
            "overflow_y": null,
            "padding": null,
            "right": null,
            "top": null,
            "visibility": null,
            "width": null
          }
        },
        "42fd8c8ae87443328b483c8643655906": {
          "model_module": "@jupyter-widgets/controls",
          "model_name": "DescriptionStyleModel",
          "model_module_version": "1.5.0",
          "state": {
            "_model_module": "@jupyter-widgets/controls",
            "_model_module_version": "1.5.0",
            "_model_name": "DescriptionStyleModel",
            "_view_count": null,
            "_view_module": "@jupyter-widgets/base",
            "_view_module_version": "1.2.0",
            "_view_name": "StyleView",
            "description_width": ""
          }
        },
        "1bc88c01f4154c99906f5ea3f631244a": {
          "model_module": "@jupyter-widgets/base",
          "model_name": "LayoutModel",
          "model_module_version": "1.2.0",
          "state": {
            "_model_module": "@jupyter-widgets/base",
            "_model_module_version": "1.2.0",
            "_model_name": "LayoutModel",
            "_view_count": null,
            "_view_module": "@jupyter-widgets/base",
            "_view_module_version": "1.2.0",
            "_view_name": "LayoutView",
            "align_content": null,
            "align_items": null,
            "align_self": null,
            "border": null,
            "bottom": null,
            "display": null,
            "flex": null,
            "flex_flow": null,
            "grid_area": null,
            "grid_auto_columns": null,
            "grid_auto_flow": null,
            "grid_auto_rows": null,
            "grid_column": null,
            "grid_gap": null,
            "grid_row": null,
            "grid_template_areas": null,
            "grid_template_columns": null,
            "grid_template_rows": null,
            "height": null,
            "justify_content": null,
            "justify_items": null,
            "left": null,
            "margin": null,
            "max_height": null,
            "max_width": null,
            "min_height": null,
            "min_width": null,
            "object_fit": null,
            "object_position": null,
            "order": null,
            "overflow": null,
            "overflow_x": null,
            "overflow_y": null,
            "padding": null,
            "right": null,
            "top": null,
            "visibility": null,
            "width": null
          }
        },
        "4eefc5bfdaef423681921ffadefcdfa7": {
          "model_module": "@jupyter-widgets/controls",
          "model_name": "ProgressStyleModel",
          "model_module_version": "1.5.0",
          "state": {
            "_model_module": "@jupyter-widgets/controls",
            "_model_module_version": "1.5.0",
            "_model_name": "ProgressStyleModel",
            "_view_count": null,
            "_view_module": "@jupyter-widgets/base",
            "_view_module_version": "1.2.0",
            "_view_name": "StyleView",
            "bar_color": null,
            "description_width": ""
          }
        },
        "d7041761190e4cea92411dc5f08aa1b3": {
          "model_module": "@jupyter-widgets/base",
          "model_name": "LayoutModel",
          "model_module_version": "1.2.0",
          "state": {
            "_model_module": "@jupyter-widgets/base",
            "_model_module_version": "1.2.0",
            "_model_name": "LayoutModel",
            "_view_count": null,
            "_view_module": "@jupyter-widgets/base",
            "_view_module_version": "1.2.0",
            "_view_name": "LayoutView",
            "align_content": null,
            "align_items": null,
            "align_self": null,
            "border": null,
            "bottom": null,
            "display": null,
            "flex": null,
            "flex_flow": null,
            "grid_area": null,
            "grid_auto_columns": null,
            "grid_auto_flow": null,
            "grid_auto_rows": null,
            "grid_column": null,
            "grid_gap": null,
            "grid_row": null,
            "grid_template_areas": null,
            "grid_template_columns": null,
            "grid_template_rows": null,
            "height": null,
            "justify_content": null,
            "justify_items": null,
            "left": null,
            "margin": null,
            "max_height": null,
            "max_width": null,
            "min_height": null,
            "min_width": null,
            "object_fit": null,
            "object_position": null,
            "order": null,
            "overflow": null,
            "overflow_x": null,
            "overflow_y": null,
            "padding": null,
            "right": null,
            "top": null,
            "visibility": null,
            "width": null
          }
        },
        "76bc62edbfd54637b09efb66536d32b3": {
          "model_module": "@jupyter-widgets/controls",
          "model_name": "DescriptionStyleModel",
          "model_module_version": "1.5.0",
          "state": {
            "_model_module": "@jupyter-widgets/controls",
            "_model_module_version": "1.5.0",
            "_model_name": "DescriptionStyleModel",
            "_view_count": null,
            "_view_module": "@jupyter-widgets/base",
            "_view_module_version": "1.2.0",
            "_view_name": "StyleView",
            "description_width": ""
          }
        }
      }
    }
  },
  "nbformat": 4,
  "nbformat_minor": 5
}