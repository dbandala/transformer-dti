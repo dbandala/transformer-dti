{
  "cells": [
    {
      "cell_type": "code",
      "execution_count": 1,
      "metadata": {
        "colab": {
          "base_uri": "https://localhost:8080/"
        },
        "id": "5bALUwjAa9uH",
        "outputId": "9fbaa4ab-3b18-4eb1-dbbe-6e7808aea38a"
      },
      "outputs": [
        {
          "output_type": "stream",
          "name": "stdout",
          "text": [
            "Looking in indexes: https://pypi.org/simple, https://us-python.pkg.dev/colab-wheels/public/simple/\n",
            "Requirement already satisfied: dipy in /usr/local/lib/python3.9/dist-packages (1.6.0)\n",
            "Requirement already satisfied: scipy>=1.1 in /usr/local/lib/python3.9/dist-packages (from dipy) (1.10.1)\n",
            "Requirement already satisfied: tqdm>=4.30.0 in /usr/local/lib/python3.9/dist-packages (from dipy) (4.65.0)\n",
            "Requirement already satisfied: nibabel>=3.0.0 in /usr/local/lib/python3.9/dist-packages (from dipy) (3.0.2)\n",
            "Requirement already satisfied: h5py>=2.8.0 in /usr/local/lib/python3.9/dist-packages (from dipy) (3.8.0)\n",
            "Requirement already satisfied: numpy>=1.14.5 in /usr/local/lib/python3.9/dist-packages (from h5py>=2.8.0->dipy) (1.22.4)\n",
            "Looking in indexes: https://pypi.org/simple, https://us-python.pkg.dev/colab-wheels/public/simple/\n",
            "Requirement already satisfied: einops in /usr/local/lib/python3.9/dist-packages (0.6.1)\n"
          ]
        }
      ],
      "source": [
        "!pip install dipy\n",
        "!pip install einops"
      ],
      "id": "5bALUwjAa9uH"
    },
    {
      "cell_type": "code",
      "execution_count": 2,
      "metadata": {
        "colab": {
          "base_uri": "https://localhost:8080/"
        },
        "id": "S4ilmcaWa0mN",
        "outputId": "2d60f381-1537-4a62-8677-5e0533758e0c"
      },
      "outputs": [
        {
          "output_type": "stream",
          "name": "stdout",
          "text": [
            "Drive already mounted at /content/drive; to attempt to forcibly remount, call drive.mount(\"/content/drive\", force_remount=True).\n"
          ]
        }
      ],
      "source": [
        "import os\n",
        "from google.colab import drive\n",
        "mount_path = '/content/drive'\n",
        "drive_path = mount_path+\"/MyDrive/dti-transformer/code/model\"\n",
        "results_path = drive_path+\"/results/RGB\"\n",
        "drive.mount(mount_path)\n",
        "os.chdir(drive_path)"
      ],
      "id": "S4ilmcaWa0mN"
    },
    {
      "cell_type": "code",
      "execution_count": 3,
      "metadata": {
        "id": "cc75b2b9-310c-49f2-8c68-c9120d9bb97a"
      },
      "outputs": [],
      "source": [
        "# Daniel Bandala @ mar-2023\n",
        "# dti-model training script\n",
        "# general libraries\n",
        "import numpy as np\n",
        "import pandas as pd\n",
        "import matplotlib.pyplot as plt\n",
        "from random import shuffle\n",
        "# diffussion image processing\n",
        "from dipy.io.image import load_nifti\n",
        "# import torch libraries\n",
        "import torch   \n",
        "import torch.nn as nn\n",
        "import torch.optim as optim\n",
        "from torch.optim.lr_scheduler import StepLR   \n",
        "# import dataset auxiliar libraries\n",
        "from data_loader import *\n",
        "from tqdm.notebook import tqdm\n",
        "# import model\n",
        "from dti_model import DiffusionTensorModel"
      ],
      "id": "cc75b2b9-310c-49f2-8c68-c9120d9bb97a"
    },
    {
      "cell_type": "code",
      "execution_count": 4,
      "metadata": {
        "id": "uk6N7j_s7YFu"
      },
      "outputs": [],
      "source": [
        "# set plot parameters\n",
        "plt.rcParams.update({'font.size': 20})"
      ],
      "id": "uk6N7j_s7YFu"
    },
    {
      "cell_type": "code",
      "execution_count": 5,
      "metadata": {
        "id": "6d1292e1-a110-4048-abc9-4ff818833c7f"
      },
      "outputs": [],
      "source": [
        "# folders dataset\n",
        "main_dir = '/content/drive/MyDrive/dti-transformer/dti_data/HCP'"
      ],
      "id": "6d1292e1-a110-4048-abc9-4ff818833c7f"
    },
    {
      "cell_type": "code",
      "execution_count": 6,
      "metadata": {
        "colab": {
          "base_uri": "https://localhost:8080/"
        },
        "id": "60d8c0a1-5f64-45df-8f37-ad4bb05748e9",
        "outputId": "f64b984e-4ab6-407b-ffb3-579cbd91d7cc"
      },
      "outputs": [
        {
          "output_type": "execute_result",
          "data": {
            "text/plain": [
              "(140, 140, 96, 15)"
            ]
          },
          "metadata": {},
          "execution_count": 6
        }
      ],
      "source": [
        "# read difussion data\n",
        "data, affine = load_nifti(main_dir+'/case_02/input/DWI_opt.nii.gz')\n",
        "data.shape"
      ],
      "id": "60d8c0a1-5f64-45df-8f37-ad4bb05748e9"
    },
    {
      "cell_type": "code",
      "execution_count": 7,
      "metadata": {
        "colab": {
          "base_uri": "https://localhost:8080/"
        },
        "id": "9f146567-43fb-443d-9580-79b2766022da",
        "outputId": "96c785c3-0e9c-4061-d055-f22ceadfa481"
      },
      "outputs": [
        {
          "output_type": "execute_result",
          "data": {
            "text/plain": [
              "(140, 140, 96, 3)"
            ]
          },
          "metadata": {},
          "execution_count": 7
        }
      ],
      "source": [
        "# read difussion data\n",
        "output, _ = load_nifti(main_dir+'/case_02/output/DTI_RGB.nii.gz')\n",
        "output.shape"
      ],
      "id": "9f146567-43fb-443d-9580-79b2766022da"
    },
    {
      "cell_type": "code",
      "execution_count": 8,
      "metadata": {
        "colab": {
          "base_uri": "https://localhost:8080/",
          "height": 427
        },
        "id": "8aabfcb1-23b5-415a-994c-22ee55f5ddeb",
        "outputId": "06765f07-0e60-4fc1-c3f9-d4e23714eda1"
      },
      "outputs": [
        {
          "output_type": "execute_result",
          "data": {
            "text/plain": [
              "<matplotlib.image.AxesImage at 0x7f3579ba43a0>"
            ]
          },
          "metadata": {},
          "execution_count": 8
        },
        {
          "output_type": "display_data",
          "data": {
            "text/plain": [
              "<Figure size 1600x800 with 2 Axes>"
            ],
            "image/png": "[encoded data removed]"
          },
          "metadata": {}
        }
      ],
      "source": [
        "plt.figure(figsize=(16,8))\n",
        "plt.subplot(1, 2, 1).set_axis_off()\n",
        "plt.imshow(data[:, :, 48, 0], cmap='gray', origin='lower')\n",
        "plt.subplot(1, 2, 2).set_axis_off()\n",
        "plt.imshow(output[:, :, 48], cmap='gray', origin='lower')"
      ],
      "id": "8aabfcb1-23b5-415a-994c-22ee55f5ddeb"
    },
    {
      "cell_type": "code",
      "execution_count": 9,
      "metadata": {
        "id": "01c3f5b4-7aac-4771-9ddf-b198936d177f"
      },
      "outputs": [],
      "source": [
        "# input channels\n",
        "signals = 7\n",
        "# define training parameters\n",
        "batches = 10\n",
        "epochs = 140\n",
        "test_size = 0.1\n",
        "start_epoch = 0\n",
        "# optimizer parameters\n",
        "lr = 2e-4\n",
        "weight_decay = 1e-4\n",
        "gamma = 0.9 #for learning rate scheduler\n",
        "step_size = 1\n",
        "seed = 24\n",
        "# select available device\n",
        "device = torch.device(\"cuda\" if torch.cuda.is_available() else \"cpu\")"
      ],
      "id": "01c3f5b4-7aac-4771-9ddf-b198936d177f"
    },
    {
      "cell_type": "code",
      "execution_count": 10,
      "metadata": {
        "id": "6VRu2jHShsHw"
      },
      "outputs": [],
      "source": [
        "# folders dataset\n",
        "main_dir = ['/content/drive/MyDrive/dti-transformer/dti_data/HCP',\n",
        "            '/content/drive/MyDrive/dti-transformer/dti_data/ADNI']"
      ],
      "id": "6VRu2jHShsHw"
    },
    {
      "cell_type": "code",
      "execution_count": 11,
      "metadata": {
        "colab": {
          "base_uri": "https://localhost:8080/"
        },
        "id": "eutJDYJIt1lI",
        "outputId": "fd466198-fa5e-4f8a-ff37-062360cebf09"
      },
      "outputs": [
        {
          "output_type": "stream",
          "name": "stdout",
          "text": [
            "Dataset size: 59\n",
            "Train Data: 53\n",
            "Validation Data: 6\n"
          ]
        }
      ],
      "source": [
        "# load dataset\n",
        "maps = [\"RGB\"] #\"MD\",\"MO\",\"L1\",\"L2\",\"L3\"\n",
        "train_list, valid_list, train_loader, valid_loader = get_dataset(main_dir, test_size, batches, maps=maps, signals=signals, dti_folder='output')"
      ],
      "id": "eutJDYJIt1lI"
    },
    {
      "cell_type": "code",
      "execution_count": 12,
      "metadata": {
        "id": "90269e63-ebc9-4562-8f0d-29c64237d9e4"
      },
      "outputs": [],
      "source": [
        "# load model\n",
        "model = DiffusionTensorModel(\n",
        "    in_chans=signals,\n",
        "    out_chans=3,\n",
        "    img_size=140,\n",
        "    embed_dim=64,\n",
        "    n_heads=[1,2,4,8],\n",
        "    mlp_ratio=[2,2,4,4],\n",
        "    reduction_ratio=1,\n",
        "    depth_prob=0.2,\n",
        "    tanh_output=False\n",
        ")\n",
        "# loss function\n",
        "criterion = nn.MSELoss()\n",
        "# optimizer\n",
        "optimizer = optim.Adam(model.parameters(), lr=lr, weight_decay=weight_decay)\n",
        "# scheduler\n",
        "scheduler = StepLR(optimizer, step_size=step_size, gamma=gamma)"
      ],
      "id": "90269e63-ebc9-4562-8f0d-29c64237d9e4"
    },
    {
      "cell_type": "code",
      "execution_count": 13,
      "metadata": {
        "id": "818ff608-124a-4d6b-9c7f-362262f02d07"
      },
      "outputs": [],
      "source": [
        "device\n",
        "# copy model to gpu\n",
        "_ = model.to(device)"
      ],
      "id": "818ff608-124a-4d6b-9c7f-362262f02d07"
    },
    {
      "cell_type": "code",
      "execution_count": 14,
      "metadata": {
        "colab": {
          "base_uri": "https://localhost:8080/"
        },
        "id": "491c09db-7a4c-403b-8004-7f0169e30260",
        "outputId": "957177af-841b-425e-d6f2-516c62946af1"
      },
      "outputs": [
        {
          "output_type": "stream",
          "name": "stdout",
          "text": [
            "Enabling notebook extension jupyter-js-widgets/extension...\n",
            "Paths used for configuration of notebook: \n",
            "    \t/root/.jupyter/nbconfig/notebook.json\n",
            "Paths used for configuration of notebook: \n",
            "    \t\n",
            "      - Validating: \u001b[32mOK\u001b[0m\n",
            "Paths used for configuration of notebook: \n",
            "    \t/root/.jupyter/nbconfig/notebook.json\n"
          ]
        }
      ],
      "source": [
        "# enable training graphics widget\n",
        "!jupyter nbextension enable --py widgetsnbextension"
      ],
      "id": "491c09db-7a4c-403b-8004-7f0169e30260"
    },
    {
      "cell_type": "code",
      "execution_count": 15,
      "metadata": {
        "id": "3F4mKFeB8E8I"
      },
      "outputs": [],
      "source": [
        "# model weights path\n",
        "continue_training = True\n",
        "model_path = results_path+\"/dti_rgb.weights\"\n",
        "ch_path = results_path+\"/opt.pt.tar\""
      ],
      "id": "3F4mKFeB8E8I"
    },
    {
      "cell_type": "code",
      "execution_count": 16,
      "metadata": {
        "id": "VdFTaw21pE4S"
      },
      "outputs": [],
      "source": [
        "# load model and parameters to keep training\n",
        "if continue_training:\n",
        "    checkpoint = torch.load(ch_path)\n",
        "    start_epoch = int(checkpoint['epoch'])\n",
        "    model.load_state_dict(checkpoint['model_state_dict'])\n",
        "    optimizer.load_state_dict(checkpoint['optimizer_state_dict'])\n",
        "    scheduler.load_state_dict(checkpoint['scheduler_state_dict'])\n",
        "#model = torch.load(model_path, map_location=torch.device(device))"
      ],
      "id": "VdFTaw21pE4S"
    },
    {
      "cell_type": "code",
      "execution_count": 17,
      "metadata": {
        "colab": {
          "base_uri": "https://localhost:8080/"
        },
        "id": "fc99fe04-cb5f-4eae-b7f5-cf4f90925ebd",
        "outputId": "8616a44a-b1ea-42f8-8125-4fe4c2096ce5"
      },
      "outputs": [
        {
          "output_type": "stream",
          "name": "stdout",
          "text": [
            "Trainable parameters:  35210091\n"
          ]
        }
      ],
      "source": [
        "# set model on training mode\n",
        "_ = model.train()\n",
        "# get trainable parameters\n",
        "print(\"Trainable parameters: \", get_params(model))"
      ],
      "id": "fc99fe04-cb5f-4eae-b7f5-cf4f90925ebd"
    },
    {
      "cell_type": "code",
      "execution_count": 18,
      "metadata": {
        "colab": {
          "base_uri": "https://localhost:8080/",
          "height": 440,
          "referenced_widgets": [
            "681fc32efb114a7e87d6f59f5da13b07",
            "2eb1406d17eb4158967a56e989ac9ef3",
            "ad94748437f04d038b93d4f9d013d8d0",
            "11dd97f5c5fb4d7bb42d83b1a9609e3f",
            "c940264093b540aa9ee8f834eb3bd304",
            "1fabcb7cbc6247c3adf608228799d88c",
            "157d2c14c58f4e3d870af4aa49661318",
            "f94f2d8c458d4916a6b6c70471e52790",
            "9e28269050c04c6fb1ff35fb1decb67e",
            "439c570026d34c7dbd4711eee26db2b3",
            "e87f19d444094ef6b5e7beafb8abcc59",
            "cae23abfecbd40cb8ffcdc2155bc731e",
            "d0564b01a4184afe8de53c59298d5282",
            "5348bb18b6e544999134ed6da8b9dd39",
            "0e052503ed894da39bb928008c76ad40",
            "3cae71f398e9471fa4a3212bad22dbce",
            "2c3516feba0749be887478443daffa9b",
            "3e1b2180697445f092708a58f1824b5c",
            "ea4e505448ce47b09348b9c870563488",
            "7726a1fbe88e47e69a1d2c64a41b47ab",
            "4165c0007bbd4ae6857afdf2311277a8",
            "1b58b16e56dd424b8991c2cb2cef014e",
            "d8e2fee574354561b4a356a8100dc001",
            "19cb38ae845047abb6cb85a151ee13eb",
            "bd1256ec4a0b4381a7f8940e79f9709a",
            "28ef8586662a44d180dee1081f5f704c",
            "65135cf92e3548ee8dfa08ef834fc5dd",
            "49a0d5bb7d654ac9abd0ec0cf217ae06",
            "31bad071671e4391bb613cefc7c0587f",
            "a2f4a0c1580e4eafae0a7e0cabf5312a",
            "a1aaea2d5424443ab22add37c0218a5b",
            "1f944c2a85384fca9c1eea4878e1197e",
            "f70f14603e24468984d62238b2229365",
            "8071e5c0020b40e495560207124921c3",
            "83bd68cd89b44893aeed2b3c271858e8",
            "4dfdee213da446be8c5995fadfe2f2ae",
            "bc10b597eb8e4d29a29435bad3e13d33",
            "3d7227f6135d41b699a81fc17ec33c8b",
            "b3685555d58e483a8ed284d74b6f3d86",
            "af06502f38564ac3800716fbe26d5dbe",
            "c3b09b9f85224b7ab445eaee85b846a7",
            "0e4a13a7275f4659a30a989d3cdd189b",
            "0f6e2df219d544e0b7b82f311da1eaf4",
            "e370900940e34f26b14c11e63213a172",
            "ff0626197edc4f6295fd6b2041a6b91a",
            "9b8042e00b6244ceb7d227a223a4ca44",
            "573e625261144c60aa76a6ed24bf375e",
            "03889294308844728183672dc5d4f95f",
            "037c2c8c187f4aacbef2e93deb9ab3e6",
            "56d31665aea44661a1030a9898ba3e05",
            "97100a6c889b43ed9a301553961d04d1",
            "b5346bd5e2d74a7faab1ee6d1085ed18",
            "7085b1c203294524a72c2060e420e78d",
            "85d00a6ddf334125bab0fe5ddd3e58cc",
            "81571c0d59bb45cda4a9ac11259153b3"
          ]
        },
        "id": "d1168d0e-50e4-4b15-8887-350d6ea33a9c",
        "outputId": "a98e409e-4f4e-468d-f0b8-1cabf78b4a25"
      },
      "outputs": [
        {
          "data": {
            "application/vnd.jupyter.widget-view+json": {
              "model_id": "681fc32efb114a7e87d6f59f5da13b07",
              "version_major": 2,
              "version_minor": 0
            },
            "text/plain": [
              "  0%|          | 0/11 [00:00<?, ?it/s]"
            ]
          },
          "metadata": {},
          "output_type": "display_data"
        },
        {
          "metadata": {
            "tags": null
          },
          "name": "stderr",
          "output_type": "stream",
          "text": [
            "/usr/local/lib/python3.9/dist-packages/torchvision/transforms/functional.py:1603: UserWarning: The default value of the antialias parameter of all the resizing transforms (Resize(), RandomResizedCrop(), etc.) will change from None to True in v0.17, in order to be consistent across the PIL and Tensor backends. To suppress this warning, directly pass antialias=True (recommended, future default), antialias=None (current default, which means False for Tensors and True for PIL), or antialias=False (only works on Tensors - PIL will still use antialiasing). This also applies if you are using the inference transforms from the models weights: update the call to weights.transforms(antialias=True).\n",
            "  warnings.warn(\n"
          ]
        },
        {
          "metadata": {
            "tags": null
          },
          "name": "stdout",
          "output_type": "stream",
          "text": [
            "Epoch: 136  -  train loss: 0.00149318  -  valid loss: 0.00139890 \n",
            "\n"
          ]
        },
        {
          "data": {
            "application/vnd.jupyter.widget-view+json": {
              "model_id": "cae23abfecbd40cb8ffcdc2155bc731e",
              "version_major": 2,
              "version_minor": 0
            },
            "text/plain": [
              "  0%|          | 0/11 [00:00<?, ?it/s]"
            ]
          },
          "metadata": {},
          "output_type": "display_data"
        },
        {
          "metadata": {
            "tags": null
          },
          "name": "stdout",
          "output_type": "stream",
          "text": [
            "Epoch: 137  -  train loss: 0.00149634  -  valid loss: 0.00139852 \n",
            "\n"
          ]
        },
        {
          "data": {
            "application/vnd.jupyter.widget-view+json": {
              "model_id": "d8e2fee574354561b4a356a8100dc001",
              "version_major": 2,
              "version_minor": 0
            },
            "text/plain": [
              "  0%|          | 0/11 [00:00<?, ?it/s]"
            ]
          },
          "metadata": {},
          "output_type": "display_data"
        },
        {
          "metadata": {
            "tags": null
          },
          "name": "stdout",
          "output_type": "stream",
          "text": [
            "Epoch: 138  -  train loss: 0.00149542  -  valid loss: 0.00139600 \n",
            "\n"
          ]
        },
        {
          "data": {
            "application/vnd.jupyter.widget-view+json": {
              "model_id": "8071e5c0020b40e495560207124921c3",
              "version_major": 2,
              "version_minor": 0
            },
            "text/plain": [
              "  0%|          | 0/11 [00:00<?, ?it/s]"
            ]
          },
          "metadata": {},
          "output_type": "display_data"
        },
        {
          "metadata": {
            "tags": null
          },
          "name": "stdout",
          "output_type": "stream",
          "text": [
            "Epoch: 139  -  train loss: 0.00149582  -  valid loss: 0.00139109 \n",
            "\n"
          ]
        },
        {
          "data": {
            "application/vnd.jupyter.widget-view+json": {
              "model_id": "ff0626197edc4f6295fd6b2041a6b91a",
              "version_major": 2,
              "version_minor": 0
            },
            "text/plain": [
              "  0%|          | 0/11 [00:00<?, ?it/s]"
            ]
          },
          "metadata": {},
          "output_type": "display_data"
        },
        {
          "output_type": "stream",
          "name": "stdout",
          "text": [
            "Epoch: 140  -  train loss: 0.00149216  -  valid loss: 0.00139173 \n",
            "\n",
            "\n",
            "Training finished\n"
          ]
        }
      ],
      "source": [
        "#start training\n",
        "ep_loss = [] \n",
        "# error variables\n",
        "prev_error = float(\"inf\")\n",
        "#seed_everything(seed)\n",
        "for epoch in range(start_epoch, epochs):\n",
        "    epoch_loss = 0.\n",
        "    for batch_data, batch_label in tqdm(train_loader):\n",
        "        batch_range = list(range(batch_data.shape[0]))\n",
        "        shuffle(batch_range)\n",
        "        for i in batch_range:\n",
        "            slice_data = batch_data[i].to(device)\n",
        "            slice_label = batch_label[i].to(device)\n",
        "            samples_t = slice_data.shape[0]\n",
        "            s_counter = 0\n",
        "            slice_range = list(range(samples_t))\n",
        "            shuffle(slice_range)\n",
        "            for s in slice_range:\n",
        "                s_counter += 1\n",
        "                data = slice_data[s]\n",
        "                label = slice_label[s]\n",
        "\n",
        "                # forward - evaluate model\n",
        "                output = model(data)\n",
        "                loss = criterion(output, label)\n",
        "                # backward propagation\n",
        "                loss.backward()\n",
        "\n",
        "                # loss average\n",
        "                epoch_loss += loss.item()\n",
        "\n",
        "                #if s_counter%48==0:\n",
        "            # optimize model - update network weights\n",
        "            optimizer.step()\n",
        "            # zero the parameter gradient\n",
        "            optimizer.zero_grad()\n",
        "\n",
        "    # calculate loss on validation set\n",
        "    epoch_val_loss = 0\n",
        "    with torch.no_grad():\n",
        "        for batch_data, batch_label in valid_loader:\n",
        "            for i in range(batch_data.shape[0]):\n",
        "                slice_data = batch_data[i].to(device)\n",
        "                slice_label = batch_label[i].to(device)\n",
        "                samples_v = slice_data.shape[0]\n",
        "                for s in range(samples_v):\n",
        "                    data = slice_data[s]\n",
        "                    label = slice_label[s]\n",
        "                    # evaluate model on validation case\n",
        "                    val_output = model(data)\n",
        "                    val_loss = criterion(val_output, label)\n",
        "                    # validation loss\n",
        "                    epoch_val_loss += val_loss.item()\n",
        "\n",
        "    # append to epoch array\n",
        "    epoch_loss = epoch_loss/(len(train_list)*samples_t)\n",
        "    epoch_val_loss = epoch_val_loss/(len(valid_list)*samples_v)\n",
        "    ep_loss.append([epoch_loss,epoch_val_loss])\n",
        "    # adjust learning rate in case the error did not decrease\n",
        "    if prev_error<epoch_loss:\n",
        "        scheduler.step()\n",
        "    # assign epoch loss to next comparisson\n",
        "    prev_error = epoch_loss\n",
        "    # save error list\n",
        "    try:\n",
        "        pd.DataFrame(ep_loss).to_csv(results_path+\"/training_loss.csv\",index=False, header=False)\n",
        "    except Exception as e:\n",
        "        print(\"Error saving loss data\")\n",
        "        drive.mount(mount_path, force_remount=True)\n",
        "        os.chdir(drive_path)\n",
        "    # save model weights and training parameters\n",
        "    try:\n",
        "        torch.save({'epoch': epoch+1,\n",
        "                    'model_state_dict': model.state_dict(),\n",
        "                    'optimizer_state_dict': optimizer.state_dict(),\n",
        "                    'scheduler_state_dict': scheduler.state_dict()\n",
        "                    }, ch_path)\n",
        "    except Exception as e:\n",
        "        print(\"Error saving model\")\n",
        "        drive.mount(mount_path, force_remount=True)\n",
        "        os.chdir(drive_path)\n",
        "    # print epoch metrics\n",
        "    print(\n",
        "        f\"Epoch: {epoch+1}  -  train loss: {epoch_loss:.8f}  -  valid loss: {epoch_val_loss:.8f} \\n\"\n",
        "    )\n",
        "# return model to cpu\n",
        "_ = model.to(\"cpu\")\n",
        "# save final model\n",
        "torch.save(model.state_dict(), model_path)\n",
        "# complete\n",
        "print(\"\\nTraining finished\")"
      ],
      "id": "d1168d0e-50e4-4b15-8887-350d6ea33a9c"
    },
    {
      "cell_type": "code",
      "execution_count": 19,
      "metadata": {
        "id": "9f97a7ca-120b-452f-8836-5ec6e3266b95"
      },
      "outputs": [],
      "source": [
        "# evaluate model\n",
        "data, label = data_preprocessing(valid_list[2], maps=maps, signals=signals, dti_folder='output')\n",
        "data_val, label_val = data[48], label[48]"
      ],
      "id": "9f97a7ca-120b-452f-8836-5ec6e3266b95"
    },
    {
      "cell_type": "code",
      "execution_count": 20,
      "metadata": {
        "id": "3e4c6bef-af0d-4856-988f-dbe832421430"
      },
      "outputs": [],
      "source": [
        "_ = model.to(\"cpu\")\n",
        "model.eval()\n",
        "with torch.no_grad():\n",
        "    output = model(data_val)"
      ],
      "id": "3e4c6bef-af0d-4856-988f-dbe832421430"
    },
    {
      "cell_type": "code",
      "execution_count": 21,
      "metadata": {
        "id": "3a366a9c-fc30-4b92-af7f-04c9ac536d9e",
        "colab": {
          "base_uri": "https://localhost:8080/"
        },
        "outputId": "ccc9fdb2-8654-418a-82f1-ab6088a6f60c"
      },
      "outputs": [
        {
          "output_type": "stream",
          "name": "stdout",
          "text": [
            "Data:  torch.Size([96, 7, 140, 140])\n",
            "Label:  torch.Size([96, 3, 140, 140])\n",
            "Data to evaluate:  torch.Size([7, 140, 140])\n",
            "Label to evaluate:  torch.Size([3, 140, 140])\n",
            "Output:  torch.Size([3, 140, 140])\n"
          ]
        }
      ],
      "source": [
        "print(\"Data: \",data.shape)\n",
        "print(\"Label: \",label.shape)\n",
        "print(\"Data to evaluate: \",data_val.shape)\n",
        "print(\"Label to evaluate: \",label_val.shape)\n",
        "print(\"Output: \",output.shape)"
      ],
      "id": "3a366a9c-fc30-4b92-af7f-04c9ac536d9e"
    },
    {
      "cell_type": "code",
      "execution_count": 22,
      "metadata": {
        "id": "6e4e71c0-0456-4fc9-a4f8-c62d8add2463"
      },
      "outputs": [],
      "source": [
        "# detach data\n",
        "data_eval_np = data_val.detach().numpy()\n",
        "label_eval_np = label_val.detach().numpy().transpose(1,2,0)\n",
        "output_eval_np = output.detach().numpy().transpose(1,2,0)"
      ],
      "id": "6e4e71c0-0456-4fc9-a4f8-c62d8add2463"
    },
    {
      "cell_type": "code",
      "execution_count": 23,
      "metadata": {
        "id": "306cebe5-a5de-47eb-af28-c63285b3c0b9",
        "colab": {
          "base_uri": "https://localhost:8080/",
          "height": 311
        },
        "outputId": "5143c0b1-887c-465e-c0be-335db84f6979"
      },
      "outputs": [
        {
          "output_type": "stream",
          "name": "stderr",
          "text": [
            "WARNING:matplotlib.image:Clipping input data to the valid range for imshow with RGB data ([0..1] for floats or [0..255] for integers).\n"
          ]
        },
        {
          "output_type": "display_data",
          "data": {
            "text/plain": [
              "<Figure size 2000x1200 with 3 Axes>"
            ],
            "image/png": "[encoded data removed]"
          },
          "metadata": {}
        }
      ],
      "source": [
        "# print visual evaluation\n",
        "plt.figure(figsize=(20,12))\n",
        "plt.subplot(1, 3, 1).set_axis_off()\n",
        "plt.imshow(data_eval_np[0], cmap='gray', origin='lower')\n",
        "plt.subplot(1, 3, 2).set_axis_off()\n",
        "plt.imshow(label_eval_np, cmap='gray', origin='lower')\n",
        "plt.subplot(1, 3, 3).set_axis_off()\n",
        "plt.imshow(output_eval_np, cmap='gray', origin='lower')\n",
        "plt.savefig(results_path+\"/fa_result.png\")"
      ],
      "id": "306cebe5-a5de-47eb-af28-c63285b3c0b9"
    },
    {
      "cell_type": "code",
      "execution_count": 24,
      "metadata": {
        "id": "KYb66jZVS5bX",
        "colab": {
          "base_uri": "https://localhost:8080/",
          "height": 499
        },
        "outputId": "1a9303ad-1615-41d7-b3dd-0040b813a5cb"
      },
      "outputs": [
        {
          "metadata": {
            "tags": null
          },
          "name": "stderr",
          "output_type": "stream",
          "text": [
            "WARNING:matplotlib.image:Clipping input data to the valid range for imshow with RGB data ([0..1] for floats or [0..255] for integers).\n"
          ]
        },
        {
          "data": {
            "text/plain": [
              "<matplotlib.image.AxesImage at 0x7f3575a62250>"
            ]
          },
          "execution_count": 24,
          "metadata": {},
          "output_type": "execute_result"
        },
        {
          "output_type": "display_data",
          "data": {
            "text/plain": [
              "<Figure size 640x480 with 1 Axes>"
            ],
            "image/png": "[encoded data removed]"
          },
          "metadata": {}
        }
      ],
      "source": [
        "res = label_eval_np-output_eval_np\n",
        "plt.imshow(res, cmap='magma_r', origin='lower')"
      ],
      "id": "KYb66jZVS5bX"
    },
    {
      "cell_type": "code",
      "execution_count": 24,
      "metadata": {
        "id": "NW_cUgbHeFW4"
      },
      "outputs": [],
      "source": [],
      "id": "NW_cUgbHeFW4"
    }
  ],
  "metadata": {
    "accelerator": "GPU",
    "colab": {
      "provenance": []
    },
    "gpuClass": "standard",
    "kernelspec": {
      "display_name": "Python 3 (ipykernel)",
      "language": "python",
      "name": "python3"
    },
    "language_info": {
      "codemirror_mode": {
        "name": "ipython",
        "version": 3
      },
      "file_extension": ".py",
      "mimetype": "text/x-python",
      "name": "python",
      "nbconvert_exporter": "python",
      "pygments_lexer": "ipython3",
      "version": "3.8.10"
    },
    "toc-showmarkdowntxt": false,
    "widgets": {
      "application/vnd.jupyter.widget-state+json": {
        "681fc32efb114a7e87d6f59f5da13b07": {
          "model_module": "@jupyter-widgets/controls",
          "model_name": "HBoxModel",
          "model_module_version": "1.5.0",
          "state": {
            "_dom_classes": [],
            "_model_module": "@jupyter-widgets/controls",
            "_model_module_version": "1.5.0",
            "_model_name": "HBoxModel",
            "_view_count": null,
            "_view_module": "@jupyter-widgets/controls",
            "_view_module_version": "1.5.0",
            "_view_name": "HBoxView",
            "box_style": "",
            "children": [
              "IPY_MODEL_2eb1406d17eb4158967a56e989ac9ef3",
              "IPY_MODEL_ad94748437f04d038b93d4f9d013d8d0",
              "IPY_MODEL_11dd97f5c5fb4d7bb42d83b1a9609e3f"
            ],
            "layout": "IPY_MODEL_c940264093b540aa9ee8f834eb3bd304"
          }
        },
        "2eb1406d17eb4158967a56e989ac9ef3": {
          "model_module": "@jupyter-widgets/controls",
          "model_name": "HTMLModel",
          "model_module_version": "1.5.0",
          "state": {
            "_dom_classes": [],
            "_model_module": "@jupyter-widgets/controls",
            "_model_module_version": "1.5.0",
            "_model_name": "HTMLModel",
            "_view_count": null,
            "_view_module": "@jupyter-widgets/controls",
            "_view_module_version": "1.5.0",
            "_view_name": "HTMLView",
            "description": "",
            "description_tooltip": null,
            "layout": "IPY_MODEL_1fabcb7cbc6247c3adf608228799d88c",
            "placeholder": "​",
            "style": "IPY_MODEL_157d2c14c58f4e3d870af4aa49661318",
            "value": "100%"
          }
        },
        "ad94748437f04d038b93d4f9d013d8d0": {
          "model_module": "@jupyter-widgets/controls",
          "model_name": "FloatProgressModel",
          "model_module_version": "1.5.0",
          "state": {
            "_dom_classes": [],
            "_model_module": "@jupyter-widgets/controls",
            "_model_module_version": "1.5.0",
            "_model_name": "FloatProgressModel",
            "_view_count": null,
            "_view_module": "@jupyter-widgets/controls",
            "_view_module_version": "1.5.0",
            "_view_name": "ProgressView",
            "bar_style": "success",
            "description": "",
            "description_tooltip": null,
            "layout": "IPY_MODEL_f94f2d8c458d4916a6b6c70471e52790",
            "max": 11,
            "min": 0,
            "orientation": "horizontal",
            "style": "IPY_MODEL_9e28269050c04c6fb1ff35fb1decb67e",
            "value": 11
          }
        },
        "11dd97f5c5fb4d7bb42d83b1a9609e3f": {
          "model_module": "@jupyter-widgets/controls",
          "model_name": "HTMLModel",
          "model_module_version": "1.5.0",
          "state": {
            "_dom_classes": [],
            "_model_module": "@jupyter-widgets/controls",
            "_model_module_version": "1.5.0",
            "_model_name": "HTMLModel",
            "_view_count": null,
            "_view_module": "@jupyter-widgets/controls",
            "_view_module_version": "1.5.0",
            "_view_name": "HTMLView",
            "description": "",
            "description_tooltip": null,
            "layout": "IPY_MODEL_439c570026d34c7dbd4711eee26db2b3",
            "placeholder": "​",
            "style": "IPY_MODEL_e87f19d444094ef6b5e7beafb8abcc59",
            "value": " 11/11 [08:25&lt;00:00, 40.89s/it]"
          }
        },
        "c940264093b540aa9ee8f834eb3bd304": {
          "model_module": "@jupyter-widgets/base",
          "model_name": "LayoutModel",
          "model_module_version": "1.2.0",
          "state": {
            "_model_module": "@jupyter-widgets/base",
            "_model_module_version": "1.2.0",
            "_model_name": "LayoutModel",
            "_view_count": null,
            "_view_module": "@jupyter-widgets/base",
            "_view_module_version": "1.2.0",
            "_view_name": "LayoutView",
            "align_content": null,
            "align_items": null,
            "align_self": null,
            "border": null,
            "bottom": null,
            "display": null,
            "flex": null,
            "flex_flow": null,
            "grid_area": null,
            "grid_auto_columns": null,
            "grid_auto_flow": null,
            "grid_auto_rows": null,
            "grid_column": null,
            "grid_gap": null,
            "grid_row": null,
            "grid_template_areas": null,
            "grid_template_columns": null,
            "grid_template_rows": null,
            "height": null,
            "justify_content": null,
            "justify_items": null,
            "left": null,
            "margin": null,
            "max_height": null,
            "max_width": null,
            "min_height": null,
            "min_width": null,
            "object_fit": null,
            "object_position": null,
            "order": null,
            "overflow": null,
            "overflow_x": null,
            "overflow_y": null,
            "padding": null,
            "right": null,
            "top": null,
            "visibility": null,
            "width": null
          }
        },
        "1fabcb7cbc6247c3adf608228799d88c": {
          "model_module": "@jupyter-widgets/base",
          "model_name": "LayoutModel",
          "model_module_version": "1.2.0",
          "state": {
            "_model_module": "@jupyter-widgets/base",
            "_model_module_version": "1.2.0",
            "_model_name": "LayoutModel",
            "_view_count": null,
            "_view_module": "@jupyter-widgets/base",
            "_view_module_version": "1.2.0",
            "_view_name": "LayoutView",
            "align_content": null,
            "align_items": null,
            "align_self": null,
            "border": null,
            "bottom": null,
            "display": null,
            "flex": null,
            "flex_flow": null,
            "grid_area": null,
            "grid_auto_columns": null,
            "grid_auto_flow": null,
            "grid_auto_rows": null,
            "grid_column": null,
            "grid_gap": null,
            "grid_row": null,
            "grid_template_areas": null,
            "grid_template_columns": null,
            "grid_template_rows": null,
            "height": null,
            "justify_content": null,
            "justify_items": null,
            "left": null,
            "margin": null,
            "max_height": null,
            "max_width": null,
            "min_height": null,
            "min_width": null,
            "object_fit": null,
            "object_position": null,
            "order": null,
            "overflow": null,
            "overflow_x": null,
            "overflow_y": null,
            "padding": null,
            "right": null,
            "top": null,
            "visibility": null,
            "width": null
          }
        },
        "157d2c14c58f4e3d870af4aa49661318": {
          "model_module": "@jupyter-widgets/controls",
          "model_name": "DescriptionStyleModel",
          "model_module_version": "1.5.0",
          "state": {
            "_model_module": "@jupyter-widgets/controls",
            "_model_module_version": "1.5.0",
            "_model_name": "DescriptionStyleModel",
            "_view_count": null,
            "_view_module": "@jupyter-widgets/base",
            "_view_module_version": "1.2.0",
            "_view_name": "StyleView",
            "description_width": ""
          }
        },
        "f94f2d8c458d4916a6b6c70471e52790": {
          "model_module": "@jupyter-widgets/base",
          "model_name": "LayoutModel",
          "model_module_version": "1.2.0",
          "state": {
            "_model_module": "@jupyter-widgets/base",
            "_model_module_version": "1.2.0",
            "_model_name": "LayoutModel",
            "_view_count": null,
            "_view_module": "@jupyter-widgets/base",
            "_view_module_version": "1.2.0",
            "_view_name": "LayoutView",
            "align_content": null,
            "align_items": null,
            "align_self": null,
            "border": null,
            "bottom": null,
            "display": null,
            "flex": null,
            "flex_flow": null,
            "grid_area": null,
            "grid_auto_columns": null,
            "grid_auto_flow": null,
            "grid_auto_rows": null,
            "grid_column": null,
            "grid_gap": null,
            "grid_row": null,
            "grid_template_areas": null,
            "grid_template_columns": null,
            "grid_template_rows": null,
            "height": null,
            "justify_content": null,
            "justify_items": null,
            "left": null,
            "margin": null,
            "max_height": null,
            "max_width": null,
            "min_height": null,
            "min_width": null,
            "object_fit": null,
            "object_position": null,
            "order": null,
            "overflow": null,
            "overflow_x": null,
            "overflow_y": null,
            "padding": null,
            "right": null,
            "top": null,
            "visibility": null,
            "width": null
          }
        },
        "9e28269050c04c6fb1ff35fb1decb67e": {
          "model_module": "@jupyter-widgets/controls",
          "model_name": "ProgressStyleModel",
          "model_module_version": "1.5.0",
          "state": {
            "_model_module": "@jupyter-widgets/controls",
            "_model_module_version": "1.5.0",
            "_model_name": "ProgressStyleModel",
            "_view_count": null,
            "_view_module": "@jupyter-widgets/base",
            "_view_module_version": "1.2.0",
            "_view_name": "StyleView",
            "bar_color": null,
            "description_width": ""
          }
        },
        "439c570026d34c7dbd4711eee26db2b3": {
          "model_module": "@jupyter-widgets/base",
          "model_name": "LayoutModel",
          "model_module_version": "1.2.0",
          "state": {
            "_model_module": "@jupyter-widgets/base",
            "_model_module_version": "1.2.0",
            "_model_name": "LayoutModel",
            "_view_count": null,
            "_view_module": "@jupyter-widgets/base",
            "_view_module_version": "1.2.0",
            "_view_name": "LayoutView",
            "align_content": null,
            "align_items": null,
            "align_self": null,
            "border": null,
            "bottom": null,
            "display": null,
            "flex": null,
            "flex_flow": null,
            "grid_area": null,
            "grid_auto_columns": null,
            "grid_auto_flow": null,
            "grid_auto_rows": null,
            "grid_column": null,
            "grid_gap": null,
            "grid_row": null,
            "grid_template_areas": null,
            "grid_template_columns": null,
            "grid_template_rows": null,
            "height": null,
            "justify_content": null,
            "justify_items": null,
            "left": null,
            "margin": null,
            "max_height": null,
            "max_width": null,
            "min_height": null,
            "min_width": null,
            "object_fit": null,
            "object_position": null,
            "order": null,
            "overflow": null,
            "overflow_x": null,
            "overflow_y": null,
            "padding": null,
            "right": null,
            "top": null,
            "visibility": null,
            "width": null
          }
        },
        "e87f19d444094ef6b5e7beafb8abcc59": {
          "model_module": "@jupyter-widgets/controls",
          "model_name": "DescriptionStyleModel",
          "model_module_version": "1.5.0",
          "state": {
            "_model_module": "@jupyter-widgets/controls",
            "_model_module_version": "1.5.0",
            "_model_name": "DescriptionStyleModel",
            "_view_count": null,
            "_view_module": "@jupyter-widgets/base",
            "_view_module_version": "1.2.0",
            "_view_name": "StyleView",
            "description_width": ""
          }
        },
        "cae23abfecbd40cb8ffcdc2155bc731e": {
          "model_module": "@jupyter-widgets/controls",
          "model_name": "HBoxModel",
          "model_module_version": "1.5.0",
          "state": {
            "_dom_classes": [],
            "_model_module": "@jupyter-widgets/controls",
            "_model_module_version": "1.5.0",
            "_model_name": "HBoxModel",
            "_view_count": null,
            "_view_module": "@jupyter-widgets/controls",
            "_view_module_version": "1.5.0",
            "_view_name": "HBoxView",
            "box_style": "",
            "children": [
              "IPY_MODEL_d0564b01a4184afe8de53c59298d5282",
              "IPY_MODEL_5348bb18b6e544999134ed6da8b9dd39",
              "IPY_MODEL_0e052503ed894da39bb928008c76ad40"
            ],
            "layout": "IPY_MODEL_3cae71f398e9471fa4a3212bad22dbce"
          }
        },
        "d0564b01a4184afe8de53c59298d5282": {
          "model_module": "@jupyter-widgets/controls",
          "model_name": "HTMLModel",
          "model_module_version": "1.5.0",
          "state": {
            "_dom_classes": [],
            "_model_module": "@jupyter-widgets/controls",
            "_model_module_version": "1.5.0",
            "_model_name": "HTMLModel",
            "_view_count": null,
            "_view_module": "@jupyter-widgets/controls",
            "_view_module_version": "1.5.0",
            "_view_name": "HTMLView",
            "description": "",
            "description_tooltip": null,
            "layout": "IPY_MODEL_2c3516feba0749be887478443daffa9b",
            "placeholder": "​",
            "style": "IPY_MODEL_3e1b2180697445f092708a58f1824b5c",
            "value": "100%"
          }
        },
        "5348bb18b6e544999134ed6da8b9dd39": {
          "model_module": "@jupyter-widgets/controls",
          "model_name": "FloatProgressModel",
          "model_module_version": "1.5.0",
          "state": {
            "_dom_classes": [],
            "_model_module": "@jupyter-widgets/controls",
            "_model_module_version": "1.5.0",
            "_model_name": "FloatProgressModel",
            "_view_count": null,
            "_view_module": "@jupyter-widgets/controls",
            "_view_module_version": "1.5.0",
            "_view_name": "ProgressView",
            "bar_style": "success",
            "description": "",
            "description_tooltip": null,
            "layout": "IPY_MODEL_ea4e505448ce47b09348b9c870563488",
            "max": 11,
            "min": 0,
            "orientation": "horizontal",
            "style": "IPY_MODEL_7726a1fbe88e47e69a1d2c64a41b47ab",
            "value": 11
          }
        },
        "0e052503ed894da39bb928008c76ad40": {
          "model_module": "@jupyter-widgets/controls",
          "model_name": "HTMLModel",
          "model_module_version": "1.5.0",
          "state": {
            "_dom_classes": [],
            "_model_module": "@jupyter-widgets/controls",
            "_model_module_version": "1.5.0",
            "_model_name": "HTMLModel",
            "_view_count": null,
            "_view_module": "@jupyter-widgets/controls",
            "_view_module_version": "1.5.0",
            "_view_name": "HTMLView",
            "description": "",
            "description_tooltip": null,
            "layout": "IPY_MODEL_4165c0007bbd4ae6857afdf2311277a8",
            "placeholder": "​",
            "style": "IPY_MODEL_1b58b16e56dd424b8991c2cb2cef014e",
            "value": " 11/11 [08:18&lt;00:00, 41.45s/it]"
          }
        },
        "3cae71f398e9471fa4a3212bad22dbce": {
          "model_module": "@jupyter-widgets/base",
          "model_name": "LayoutModel",
          "model_module_version": "1.2.0",
          "state": {
            "_model_module": "@jupyter-widgets/base",
            "_model_module_version": "1.2.0",
            "_model_name": "LayoutModel",
            "_view_count": null,
            "_view_module": "@jupyter-widgets/base",
            "_view_module_version": "1.2.0",
            "_view_name": "LayoutView",
            "align_content": null,
            "align_items": null,
            "align_self": null,
            "border": null,
            "bottom": null,
            "display": null,
            "flex": null,
            "flex_flow": null,
            "grid_area": null,
            "grid_auto_columns": null,
            "grid_auto_flow": null,
            "grid_auto_rows": null,
            "grid_column": null,
            "grid_gap": null,
            "grid_row": null,
            "grid_template_areas": null,
            "grid_template_columns": null,
            "grid_template_rows": null,
            "height": null,
            "justify_content": null,
            "justify_items": null,
            "left": null,
            "margin": null,
            "max_height": null,
            "max_width": null,
            "min_height": null,
            "min_width": null,
            "object_fit": null,
            "object_position": null,
            "order": null,
            "overflow": null,
            "overflow_x": null,
            "overflow_y": null,
            "padding": null,
            "right": null,
            "top": null,
            "visibility": null,
            "width": null
          }
        },
        "2c3516feba0749be887478443daffa9b": {
          "model_module": "@jupyter-widgets/base",
          "model_name": "LayoutModel",
          "model_module_version": "1.2.0",
          "state": {
            "_model_module": "@jupyter-widgets/base",
            "_model_module_version": "1.2.0",
            "_model_name": "LayoutModel",
            "_view_count": null,
            "_view_module": "@jupyter-widgets/base",
            "_view_module_version": "1.2.0",
            "_view_name": "LayoutView",
            "align_content": null,
            "align_items": null,
            "align_self": null,
            "border": null,
            "bottom": null,
            "display": null,
            "flex": null,
            "flex_flow": null,
            "grid_area": null,
            "grid_auto_columns": null,
            "grid_auto_flow": null,
            "grid_auto_rows": null,
            "grid_column": null,
            "grid_gap": null,
            "grid_row": null,
            "grid_template_areas": null,
            "grid_template_columns": null,
            "grid_template_rows": null,
            "height": null,
            "justify_content": null,
            "justify_items": null,
            "left": null,
            "margin": null,
            "max_height": null,
            "max_width": null,
            "min_height": null,
            "min_width": null,
            "object_fit": null,
            "object_position": null,
            "order": null,
            "overflow": null,
            "overflow_x": null,
            "overflow_y": null,
            "padding": null,
            "right": null,
            "top": null,
            "visibility": null,
            "width": null
          }
        },
        "3e1b2180697445f092708a58f1824b5c": {
          "model_module": "@jupyter-widgets/controls",
          "model_name": "DescriptionStyleModel",
          "model_module_version": "1.5.0",
          "state": {
            "_model_module": "@jupyter-widgets/controls",
            "_model_module_version": "1.5.0",
            "_model_name": "DescriptionStyleModel",
            "_view_count": null,
            "_view_module": "@jupyter-widgets/base",
            "_view_module_version": "1.2.0",
            "_view_name": "StyleView",
            "description_width": ""
          }
        },
        "ea4e505448ce47b09348b9c870563488": {
          "model_module": "@jupyter-widgets/base",
          "model_name": "LayoutModel",
          "model_module_version": "1.2.0",
          "state": {
            "_model_module": "@jupyter-widgets/base",
            "_model_module_version": "1.2.0",
            "_model_name": "LayoutModel",
            "_view_count": null,
            "_view_module": "@jupyter-widgets/base",
            "_view_module_version": "1.2.0",
            "_view_name": "LayoutView",
            "align_content": null,
            "align_items": null,
            "align_self": null,
            "border": null,
            "bottom": null,
            "display": null,
            "flex": null,
            "flex_flow": null,
            "grid_area": null,
            "grid_auto_columns": null,
            "grid_auto_flow": null,
            "grid_auto_rows": null,
            "grid_column": null,
            "grid_gap": null,
            "grid_row": null,
            "grid_template_areas": null,
            "grid_template_columns": null,
            "grid_template_rows": null,
            "height": null,
            "justify_content": null,
            "justify_items": null,
            "left": null,
            "margin": null,
            "max_height": null,
            "max_width": null,
            "min_height": null,
            "min_width": null,
            "object_fit": null,
            "object_position": null,
            "order": null,
            "overflow": null,
            "overflow_x": null,
            "overflow_y": null,
            "padding": null,
            "right": null,
            "top": null,
            "visibility": null,
            "width": null
          }
        },
        "7726a1fbe88e47e69a1d2c64a41b47ab": {
          "model_module": "@jupyter-widgets/controls",
          "model_name": "ProgressStyleModel",
          "model_module_version": "1.5.0",
          "state": {
            "_model_module": "@jupyter-widgets/controls",
            "_model_module_version": "1.5.0",
            "_model_name": "ProgressStyleModel",
            "_view_count": null,
            "_view_module": "@jupyter-widgets/base",
            "_view_module_version": "1.2.0",
            "_view_name": "StyleView",
            "bar_color": null,
            "description_width": ""
          }
        },
        "4165c0007bbd4ae6857afdf2311277a8": {
          "model_module": "@jupyter-widgets/base",
          "model_name": "LayoutModel",
          "model_module_version": "1.2.0",
          "state": {
            "_model_module": "@jupyter-widgets/base",
            "_model_module_version": "1.2.0",
            "_model_name": "LayoutModel",
            "_view_count": null,
            "_view_module": "@jupyter-widgets/base",
            "_view_module_version": "1.2.0",
            "_view_name": "LayoutView",
            "align_content": null,
            "align_items": null,
            "align_self": null,
            "border": null,
            "bottom": null,
            "display": null,
            "flex": null,
            "flex_flow": null,
            "grid_area": null,
            "grid_auto_columns": null,
            "grid_auto_flow": null,
            "grid_auto_rows": null,
            "grid_column": null,
            "grid_gap": null,
            "grid_row": null,
            "grid_template_areas": null,
            "grid_template_columns": null,
            "grid_template_rows": null,
            "height": null,
            "justify_content": null,
            "justify_items": null,
            "left": null,
            "margin": null,
            "max_height": null,
            "max_width": null,
            "min_height": null,
            "min_width": null,
            "object_fit": null,
            "object_position": null,
            "order": null,
            "overflow": null,
            "overflow_x": null,
            "overflow_y": null,
            "padding": null,
            "right": null,
            "top": null,
            "visibility": null,
            "width": null
          }
        },
        "1b58b16e56dd424b8991c2cb2cef014e": {
          "model_module": "@jupyter-widgets/controls",
          "model_name": "DescriptionStyleModel",
          "model_module_version": "1.5.0",
          "state": {
            "_model_module": "@jupyter-widgets/controls",
            "_model_module_version": "1.5.0",
            "_model_name": "DescriptionStyleModel",
            "_view_count": null,
            "_view_module": "@jupyter-widgets/base",
            "_view_module_version": "1.2.0",
            "_view_name": "StyleView",
            "description_width": ""
          }
        },
        "d8e2fee574354561b4a356a8100dc001": {
          "model_module": "@jupyter-widgets/controls",
          "model_name": "HBoxModel",
          "model_module_version": "1.5.0",
          "state": {
            "_dom_classes": [],
            "_model_module": "@jupyter-widgets/controls",
            "_model_module_version": "1.5.0",
            "_model_name": "HBoxModel",
            "_view_count": null,
            "_view_module": "@jupyter-widgets/controls",
            "_view_module_version": "1.5.0",
            "_view_name": "HBoxView",
            "box_style": "",
            "children": [
              "IPY_MODEL_19cb38ae845047abb6cb85a151ee13eb",
              "IPY_MODEL_bd1256ec4a0b4381a7f8940e79f9709a",
              "IPY_MODEL_28ef8586662a44d180dee1081f5f704c"
            ],
            "layout": "IPY_MODEL_65135cf92e3548ee8dfa08ef834fc5dd"
          }
        },
        "19cb38ae845047abb6cb85a151ee13eb": {
          "model_module": "@jupyter-widgets/controls",
          "model_name": "HTMLModel",
          "model_module_version": "1.5.0",
          "state": {
            "_dom_classes": [],
            "_model_module": "@jupyter-widgets/controls",
            "_model_module_version": "1.5.0",
            "_model_name": "HTMLModel",
            "_view_count": null,
            "_view_module": "@jupyter-widgets/controls",
            "_view_module_version": "1.5.0",
            "_view_name": "HTMLView",
            "description": "",
            "description_tooltip": null,
            "layout": "IPY_MODEL_49a0d5bb7d654ac9abd0ec0cf217ae06",
            "placeholder": "​",
            "style": "IPY_MODEL_31bad071671e4391bb613cefc7c0587f",
            "value": "100%"
          }
        },
        "bd1256ec4a0b4381a7f8940e79f9709a": {
          "model_module": "@jupyter-widgets/controls",
          "model_name": "FloatProgressModel",
          "model_module_version": "1.5.0",
          "state": {
            "_dom_classes": [],
            "_model_module": "@jupyter-widgets/controls",
            "_model_module_version": "1.5.0",
            "_model_name": "FloatProgressModel",
            "_view_count": null,
            "_view_module": "@jupyter-widgets/controls",
            "_view_module_version": "1.5.0",
            "_view_name": "ProgressView",
            "bar_style": "success",
            "description": "",
            "description_tooltip": null,
            "layout": "IPY_MODEL_a2f4a0c1580e4eafae0a7e0cabf5312a",
            "max": 11,
            "min": 0,
            "orientation": "horizontal",
            "style": "IPY_MODEL_a1aaea2d5424443ab22add37c0218a5b",
            "value": 11
          }
        },
        "28ef8586662a44d180dee1081f5f704c": {
          "model_module": "@jupyter-widgets/controls",
          "model_name": "HTMLModel",
          "model_module_version": "1.5.0",
          "state": {
            "_dom_classes": [],
            "_model_module": "@jupyter-widgets/controls",
            "_model_module_version": "1.5.0",
            "_model_name": "HTMLModel",
            "_view_count": null,
            "_view_module": "@jupyter-widgets/controls",
            "_view_module_version": "1.5.0",
            "_view_name": "HTMLView",
            "description": "",
            "description_tooltip": null,
            "layout": "IPY_MODEL_1f944c2a85384fca9c1eea4878e1197e",
            "placeholder": "​",
            "style": "IPY_MODEL_f70f14603e24468984d62238b2229365",
            "value": " 11/11 [08:20&lt;00:00, 41.66s/it]"
          }
        },
        "65135cf92e3548ee8dfa08ef834fc5dd": {
          "model_module": "@jupyter-widgets/base",
          "model_name": "LayoutModel",
          "model_module_version": "1.2.0",
          "state": {
            "_model_module": "@jupyter-widgets/base",
            "_model_module_version": "1.2.0",
            "_model_name": "LayoutModel",
            "_view_count": null,
            "_view_module": "@jupyter-widgets/base",
            "_view_module_version": "1.2.0",
            "_view_name": "LayoutView",
            "align_content": null,
            "align_items": null,
            "align_self": null,
            "border": null,
            "bottom": null,
            "display": null,
            "flex": null,
            "flex_flow": null,
            "grid_area": null,
            "grid_auto_columns": null,
            "grid_auto_flow": null,
            "grid_auto_rows": null,
            "grid_column": null,
            "grid_gap": null,
            "grid_row": null,
            "grid_template_areas": null,
            "grid_template_columns": null,
            "grid_template_rows": null,
            "height": null,
            "justify_content": null,
            "justify_items": null,
            "left": null,
            "margin": null,
            "max_height": null,
            "max_width": null,
            "min_height": null,
            "min_width": null,
            "object_fit": null,
            "object_position": null,
            "order": null,
            "overflow": null,
            "overflow_x": null,
            "overflow_y": null,
            "padding": null,
            "right": null,
            "top": null,
            "visibility": null,
            "width": null
          }
        },
        "49a0d5bb7d654ac9abd0ec0cf217ae06": {
          "model_module": "@jupyter-widgets/base",
          "model_name": "LayoutModel",
          "model_module_version": "1.2.0",
          "state": {
            "_model_module": "@jupyter-widgets/base",
            "_model_module_version": "1.2.0",
            "_model_name": "LayoutModel",
            "_view_count": null,
            "_view_module": "@jupyter-widgets/base",
            "_view_module_version": "1.2.0",
            "_view_name": "LayoutView",
            "align_content": null,
            "align_items": null,
            "align_self": null,
            "border": null,
            "bottom": null,
            "display": null,
            "flex": null,
            "flex_flow": null,
            "grid_area": null,
            "grid_auto_columns": null,
            "grid_auto_flow": null,
            "grid_auto_rows": null,
            "grid_column": null,
            "grid_gap": null,
            "grid_row": null,
            "grid_template_areas": null,
            "grid_template_columns": null,
            "grid_template_rows": null,
            "height": null,
            "justify_content": null,
            "justify_items": null,
            "left": null,
            "margin": null,
            "max_height": null,
            "max_width": null,
            "min_height": null,
            "min_width": null,
            "object_fit": null,
            "object_position": null,
            "order": null,
            "overflow": null,
            "overflow_x": null,
            "overflow_y": null,
            "padding": null,
            "right": null,
            "top": null,
            "visibility": null,
            "width": null
          }
        },
        "31bad071671e4391bb613cefc7c0587f": {
          "model_module": "@jupyter-widgets/controls",
          "model_name": "DescriptionStyleModel",
          "model_module_version": "1.5.0",
          "state": {
            "_model_module": "@jupyter-widgets/controls",
            "_model_module_version": "1.5.0",
            "_model_name": "DescriptionStyleModel",
            "_view_count": null,
            "_view_module": "@jupyter-widgets/base",
            "_view_module_version": "1.2.0",
            "_view_name": "StyleView",
            "description_width": ""
          }
        },
        "a2f4a0c1580e4eafae0a7e0cabf5312a": {
          "model_module": "@jupyter-widgets/base",
          "model_name": "LayoutModel",
          "model_module_version": "1.2.0",
          "state": {
            "_model_module": "@jupyter-widgets/base",
            "_model_module_version": "1.2.0",
            "_model_name": "LayoutModel",
            "_view_count": null,
            "_view_module": "@jupyter-widgets/base",
            "_view_module_version": "1.2.0",
            "_view_name": "LayoutView",
            "align_content": null,
            "align_items": null,
            "align_self": null,
            "border": null,
            "bottom": null,
            "display": null,
            "flex": null,
            "flex_flow": null,
            "grid_area": null,
            "grid_auto_columns": null,
            "grid_auto_flow": null,
            "grid_auto_rows": null,
            "grid_column": null,
            "grid_gap": null,
            "grid_row": null,
            "grid_template_areas": null,
            "grid_template_columns": null,
            "grid_template_rows": null,
            "height": null,
            "justify_content": null,
            "justify_items": null,
            "left": null,
            "margin": null,
            "max_height": null,
            "max_width": null,
            "min_height": null,
            "min_width": null,
            "object_fit": null,
            "object_position": null,
            "order": null,
            "overflow": null,
            "overflow_x": null,
            "overflow_y": null,
            "padding": null,
            "right": null,
            "top": null,
            "visibility": null,
            "width": null
          }
        },
        "a1aaea2d5424443ab22add37c0218a5b": {
          "model_module": "@jupyter-widgets/controls",
          "model_name": "ProgressStyleModel",
          "model_module_version": "1.5.0",
          "state": {
            "_model_module": "@jupyter-widgets/controls",
            "_model_module_version": "1.5.0",
            "_model_name": "ProgressStyleModel",
            "_view_count": null,
            "_view_module": "@jupyter-widgets/base",
            "_view_module_version": "1.2.0",
            "_view_name": "StyleView",
            "bar_color": null,
            "description_width": ""
          }
        },
        "1f944c2a85384fca9c1eea4878e1197e": {
          "model_module": "@jupyter-widgets/base",
          "model_name": "LayoutModel",
          "model_module_version": "1.2.0",
          "state": {
            "_model_module": "@jupyter-widgets/base",
            "_model_module_version": "1.2.0",
            "_model_name": "LayoutModel",
            "_view_count": null,
            "_view_module": "@jupyter-widgets/base",
            "_view_module_version": "1.2.0",
            "_view_name": "LayoutView",
            "align_content": null,
            "align_items": null,
            "align_self": null,
            "border": null,
            "bottom": null,
            "display": null,
            "flex": null,
            "flex_flow": null,
            "grid_area": null,
            "grid_auto_columns": null,
            "grid_auto_flow": null,
            "grid_auto_rows": null,
            "grid_column": null,
            "grid_gap": null,
            "grid_row": null,
            "grid_template_areas": null,
            "grid_template_columns": null,
            "grid_template_rows": null,
            "height": null,
            "justify_content": null,
            "justify_items": null,
            "left": null,
            "margin": null,
            "max_height": null,
            "max_width": null,
            "min_height": null,
            "min_width": null,
            "object_fit": null,
            "object_position": null,
            "order": null,
            "overflow": null,
            "overflow_x": null,
            "overflow_y": null,
            "padding": null,
            "right": null,
            "top": null,
            "visibility": null,
            "width": null
          }
        },
        "f70f14603e24468984d62238b2229365": {
          "model_module": "@jupyter-widgets/controls",
          "model_name": "DescriptionStyleModel",
          "model_module_version": "1.5.0",
          "state": {
            "_model_module": "@jupyter-widgets/controls",
            "_model_module_version": "1.5.0",
            "_model_name": "DescriptionStyleModel",
            "_view_count": null,
            "_view_module": "@jupyter-widgets/base",
            "_view_module_version": "1.2.0",
            "_view_name": "StyleView",
            "description_width": ""
          }
        },
        "8071e5c0020b40e495560207124921c3": {
          "model_module": "@jupyter-widgets/controls",
          "model_name": "HBoxModel",
          "model_module_version": "1.5.0",
          "state": {
            "_dom_classes": [],
            "_model_module": "@jupyter-widgets/controls",
            "_model_module_version": "1.5.0",
            "_model_name": "HBoxModel",
            "_view_count": null,
            "_view_module": "@jupyter-widgets/controls",
            "_view_module_version": "1.5.0",
            "_view_name": "HBoxView",
            "box_style": "",
            "children": [
              "IPY_MODEL_83bd68cd89b44893aeed2b3c271858e8",
              "IPY_MODEL_4dfdee213da446be8c5995fadfe2f2ae",
              "IPY_MODEL_bc10b597eb8e4d29a29435bad3e13d33"
            ],
            "layout": "IPY_MODEL_3d7227f6135d41b699a81fc17ec33c8b"
          }
        },
        "83bd68cd89b44893aeed2b3c271858e8": {
          "model_module": "@jupyter-widgets/controls",
          "model_name": "HTMLModel",
          "model_module_version": "1.5.0",
          "state": {
            "_dom_classes": [],
            "_model_module": "@jupyter-widgets/controls",
            "_model_module_version": "1.5.0",
            "_model_name": "HTMLModel",
            "_view_count": null,
            "_view_module": "@jupyter-widgets/controls",
            "_view_module_version": "1.5.0",
            "_view_name": "HTMLView",
            "description": "",
            "description_tooltip": null,
            "layout": "IPY_MODEL_b3685555d58e483a8ed284d74b6f3d86",
            "placeholder": "​",
            "style": "IPY_MODEL_af06502f38564ac3800716fbe26d5dbe",
            "value": "100%"
          }
        },
        "4dfdee213da446be8c5995fadfe2f2ae": {
          "model_module": "@jupyter-widgets/controls",
          "model_name": "FloatProgressModel",
          "model_module_version": "1.5.0",
          "state": {
            "_dom_classes": [],
            "_model_module": "@jupyter-widgets/controls",
            "_model_module_version": "1.5.0",
            "_model_name": "FloatProgressModel",
            "_view_count": null,
            "_view_module": "@jupyter-widgets/controls",
            "_view_module_version": "1.5.0",
            "_view_name": "ProgressView",
            "bar_style": "success",
            "description": "",
            "description_tooltip": null,
            "layout": "IPY_MODEL_c3b09b9f85224b7ab445eaee85b846a7",
            "max": 11,
            "min": 0,
            "orientation": "horizontal",
            "style": "IPY_MODEL_0e4a13a7275f4659a30a989d3cdd189b",
            "value": 11
          }
        },
        "bc10b597eb8e4d29a29435bad3e13d33": {
          "model_module": "@jupyter-widgets/controls",
          "model_name": "HTMLModel",
          "model_module_version": "1.5.0",
          "state": {
            "_dom_classes": [],
            "_model_module": "@jupyter-widgets/controls",
            "_model_module_version": "1.5.0",
            "_model_name": "HTMLModel",
            "_view_count": null,
            "_view_module": "@jupyter-widgets/controls",
            "_view_module_version": "1.5.0",
            "_view_name": "HTMLView",
            "description": "",
            "description_tooltip": null,
            "layout": "IPY_MODEL_0f6e2df219d544e0b7b82f311da1eaf4",
            "placeholder": "​",
            "style": "IPY_MODEL_e370900940e34f26b14c11e63213a172",
            "value": " 11/11 [08:19&lt;00:00, 40.93s/it]"
          }
        },
        "3d7227f6135d41b699a81fc17ec33c8b": {
          "model_module": "@jupyter-widgets/base",
          "model_name": "LayoutModel",
          "model_module_version": "1.2.0",
          "state": {
            "_model_module": "@jupyter-widgets/base",
            "_model_module_version": "1.2.0",
            "_model_name": "LayoutModel",
            "_view_count": null,
            "_view_module": "@jupyter-widgets/base",
            "_view_module_version": "1.2.0",
            "_view_name": "LayoutView",
            "align_content": null,
            "align_items": null,
            "align_self": null,
            "border": null,
            "bottom": null,
            "display": null,
            "flex": null,
            "flex_flow": null,
            "grid_area": null,
            "grid_auto_columns": null,
            "grid_auto_flow": null,
            "grid_auto_rows": null,
            "grid_column": null,
            "grid_gap": null,
            "grid_row": null,
            "grid_template_areas": null,
            "grid_template_columns": null,
            "grid_template_rows": null,
            "height": null,
            "justify_content": null,
            "justify_items": null,
            "left": null,
            "margin": null,
            "max_height": null,
            "max_width": null,
            "min_height": null,
            "min_width": null,
            "object_fit": null,
            "object_position": null,
            "order": null,
            "overflow": null,
            "overflow_x": null,
            "overflow_y": null,
            "padding": null,
            "right": null,
            "top": null,
            "visibility": null,
            "width": null
          }
        },
        "b3685555d58e483a8ed284d74b6f3d86": {
          "model_module": "@jupyter-widgets/base",
          "model_name": "LayoutModel",
          "model_module_version": "1.2.0",
          "state": {
            "_model_module": "@jupyter-widgets/base",
            "_model_module_version": "1.2.0",
            "_model_name": "LayoutModel",
            "_view_count": null,
            "_view_module": "@jupyter-widgets/base",
            "_view_module_version": "1.2.0",
            "_view_name": "LayoutView",
            "align_content": null,
            "align_items": null,
            "align_self": null,
            "border": null,
            "bottom": null,
            "display": null,
            "flex": null,
            "flex_flow": null,
            "grid_area": null,
            "grid_auto_columns": null,
            "grid_auto_flow": null,
            "grid_auto_rows": null,
            "grid_column": null,
            "grid_gap": null,
            "grid_row": null,
            "grid_template_areas": null,
            "grid_template_columns": null,
            "grid_template_rows": null,
            "height": null,
            "justify_content": null,
            "justify_items": null,
            "left": null,
            "margin": null,
            "max_height": null,
            "max_width": null,
            "min_height": null,
            "min_width": null,
            "object_fit": null,
            "object_position": null,
            "order": null,
            "overflow": null,
            "overflow_x": null,
            "overflow_y": null,
            "padding": null,
            "right": null,
            "top": null,
            "visibility": null,
            "width": null
          }
        },
        "af06502f38564ac3800716fbe26d5dbe": {
          "model_module": "@jupyter-widgets/controls",
          "model_name": "DescriptionStyleModel",
          "model_module_version": "1.5.0",
          "state": {
            "_model_module": "@jupyter-widgets/controls",
            "_model_module_version": "1.5.0",
            "_model_name": "DescriptionStyleModel",
            "_view_count": null,
            "_view_module": "@jupyter-widgets/base",
            "_view_module_version": "1.2.0",
            "_view_name": "StyleView",
            "description_width": ""
          }
        },
        "c3b09b9f85224b7ab445eaee85b846a7": {
          "model_module": "@jupyter-widgets/base",
          "model_name": "LayoutModel",
          "model_module_version": "1.2.0",
          "state": {
            "_model_module": "@jupyter-widgets/base",
            "_model_module_version": "1.2.0",
            "_model_name": "LayoutModel",
            "_view_count": null,
            "_view_module": "@jupyter-widgets/base",
            "_view_module_version": "1.2.0",
            "_view_name": "LayoutView",
            "align_content": null,
            "align_items": null,
            "align_self": null,
            "border": null,
            "bottom": null,
            "display": null,
            "flex": null,
            "flex_flow": null,
            "grid_area": null,
            "grid_auto_columns": null,
            "grid_auto_flow": null,
            "grid_auto_rows": null,
            "grid_column": null,
            "grid_gap": null,
            "grid_row": null,
            "grid_template_areas": null,
            "grid_template_columns": null,
            "grid_template_rows": null,
            "height": null,
            "justify_content": null,
            "justify_items": null,
            "left": null,
            "margin": null,
            "max_height": null,
            "max_width": null,
            "min_height": null,
            "min_width": null,
            "object_fit": null,
            "object_position": null,
            "order": null,
            "overflow": null,
            "overflow_x": null,
            "overflow_y": null,
            "padding": null,
            "right": null,
            "top": null,
            "visibility": null,
            "width": null
          }
        },
        "0e4a13a7275f4659a30a989d3cdd189b": {
          "model_module": "@jupyter-widgets/controls",
          "model_name": "ProgressStyleModel",
          "model_module_version": "1.5.0",
          "state": {
            "_model_module": "@jupyter-widgets/controls",
            "_model_module_version": "1.5.0",
            "_model_name": "ProgressStyleModel",
            "_view_count": null,
            "_view_module": "@jupyter-widgets/base",
            "_view_module_version": "1.2.0",
            "_view_name": "StyleView",
            "bar_color": null,
            "description_width": ""
          }
        },
        "0f6e2df219d544e0b7b82f311da1eaf4": {
          "model_module": "@jupyter-widgets/base",
          "model_name": "LayoutModel",
          "model_module_version": "1.2.0",
          "state": {
            "_model_module": "@jupyter-widgets/base",
            "_model_module_version": "1.2.0",
            "_model_name": "LayoutModel",
            "_view_count": null,
            "_view_module": "@jupyter-widgets/base",
            "_view_module_version": "1.2.0",
            "_view_name": "LayoutView",
            "align_content": null,
            "align_items": null,
            "align_self": null,
            "border": null,
            "bottom": null,
            "display": null,
            "flex": null,
            "flex_flow": null,
            "grid_area": null,
            "grid_auto_columns": null,
            "grid_auto_flow": null,
            "grid_auto_rows": null,
            "grid_column": null,
            "grid_gap": null,
            "grid_row": null,
            "grid_template_areas": null,
            "grid_template_columns": null,
            "grid_template_rows": null,
            "height": null,
            "justify_content": null,
            "justify_items": null,
            "left": null,
            "margin": null,
            "max_height": null,
            "max_width": null,
            "min_height": null,
            "min_width": null,
            "object_fit": null,
            "object_position": null,
            "order": null,
            "overflow": null,
            "overflow_x": null,
            "overflow_y": null,
            "padding": null,
            "right": null,
            "top": null,
            "visibility": null,
            "width": null
          }
        },
        "e370900940e34f26b14c11e63213a172": {
          "model_module": "@jupyter-widgets/controls",
          "model_name": "DescriptionStyleModel",
          "model_module_version": "1.5.0",
          "state": {
            "_model_module": "@jupyter-widgets/controls",
            "_model_module_version": "1.5.0",
            "_model_name": "DescriptionStyleModel",
            "_view_count": null,
            "_view_module": "@jupyter-widgets/base",
            "_view_module_version": "1.2.0",
            "_view_name": "StyleView",
            "description_width": ""
          }
        },
        "ff0626197edc4f6295fd6b2041a6b91a": {
          "model_module": "@jupyter-widgets/controls",
          "model_name": "HBoxModel",
          "model_module_version": "1.5.0",
          "state": {
            "_dom_classes": [],
            "_model_module": "@jupyter-widgets/controls",
            "_model_module_version": "1.5.0",
            "_model_name": "HBoxModel",
            "_view_count": null,
            "_view_module": "@jupyter-widgets/controls",
            "_view_module_version": "1.5.0",
            "_view_name": "HBoxView",
            "box_style": "",
            "children": [
              "IPY_MODEL_9b8042e00b6244ceb7d227a223a4ca44",
              "IPY_MODEL_573e625261144c60aa76a6ed24bf375e",
              "IPY_MODEL_03889294308844728183672dc5d4f95f"
            ],
            "layout": "IPY_MODEL_037c2c8c187f4aacbef2e93deb9ab3e6"
          }
        },
        "9b8042e00b6244ceb7d227a223a4ca44": {
          "model_module": "@jupyter-widgets/controls",
          "model_name": "HTMLModel",
          "model_module_version": "1.5.0",
          "state": {
            "_dom_classes": [],
            "_model_module": "@jupyter-widgets/controls",
            "_model_module_version": "1.5.0",
            "_model_name": "HTMLModel",
            "_view_count": null,
            "_view_module": "@jupyter-widgets/controls",
            "_view_module_version": "1.5.0",
            "_view_name": "HTMLView",
            "description": "",
            "description_tooltip": null,
            "layout": "IPY_MODEL_56d31665aea44661a1030a9898ba3e05",
            "placeholder": "​",
            "style": "IPY_MODEL_97100a6c889b43ed9a301553961d04d1",
            "value": "100%"
          }
        },
        "573e625261144c60aa76a6ed24bf375e": {
          "model_module": "@jupyter-widgets/controls",
          "model_name": "FloatProgressModel",
          "model_module_version": "1.5.0",
          "state": {
            "_dom_classes": [],
            "_model_module": "@jupyter-widgets/controls",
            "_model_module_version": "1.5.0",
            "_model_name": "FloatProgressModel",
            "_view_count": null,
            "_view_module": "@jupyter-widgets/controls",
            "_view_module_version": "1.5.0",
            "_view_name": "ProgressView",
            "bar_style": "success",
            "description": "",
            "description_tooltip": null,
            "layout": "IPY_MODEL_b5346bd5e2d74a7faab1ee6d1085ed18",
            "max": 11,
            "min": 0,
            "orientation": "horizontal",
            "style": "IPY_MODEL_7085b1c203294524a72c2060e420e78d",
            "value": 11
          }
        },
        "03889294308844728183672dc5d4f95f": {
          "model_module": "@jupyter-widgets/controls",
          "model_name": "HTMLModel",
          "model_module_version": "1.5.0",
          "state": {
            "_dom_classes": [],
            "_model_module": "@jupyter-widgets/controls",
            "_model_module_version": "1.5.0",
            "_model_name": "HTMLModel",
            "_view_count": null,
            "_view_module": "@jupyter-widgets/controls",
            "_view_module_version": "1.5.0",
            "_view_name": "HTMLView",
            "description": "",
            "description_tooltip": null,
            "layout": "IPY_MODEL_85d00a6ddf334125bab0fe5ddd3e58cc",
            "placeholder": "​",
            "style": "IPY_MODEL_81571c0d59bb45cda4a9ac11259153b3",
            "value": " 11/11 [08:20&lt;00:00, 41.51s/it]"
          }
        },
        "037c2c8c187f4aacbef2e93deb9ab3e6": {
          "model_module": "@jupyter-widgets/base",
          "model_name": "LayoutModel",
          "model_module_version": "1.2.0",
          "state": {
            "_model_module": "@jupyter-widgets/base",
            "_model_module_version": "1.2.0",
            "_model_name": "LayoutModel",
            "_view_count": null,
            "_view_module": "@jupyter-widgets/base",
            "_view_module_version": "1.2.0",
            "_view_name": "LayoutView",
            "align_content": null,
            "align_items": null,
            "align_self": null,
            "border": null,
            "bottom": null,
            "display": null,
            "flex": null,
            "flex_flow": null,
            "grid_area": null,
            "grid_auto_columns": null,
            "grid_auto_flow": null,
            "grid_auto_rows": null,
            "grid_column": null,
            "grid_gap": null,
            "grid_row": null,
            "grid_template_areas": null,
            "grid_template_columns": null,
            "grid_template_rows": null,
            "height": null,
            "justify_content": null,
            "justify_items": null,
            "left": null,
            "margin": null,
            "max_height": null,
            "max_width": null,
            "min_height": null,
            "min_width": null,
            "object_fit": null,
            "object_position": null,
            "order": null,
            "overflow": null,
            "overflow_x": null,
            "overflow_y": null,
            "padding": null,
            "right": null,
            "top": null,
            "visibility": null,
            "width": null
          }
        },
        "56d31665aea44661a1030a9898ba3e05": {
          "model_module": "@jupyter-widgets/base",
          "model_name": "LayoutModel",
          "model_module_version": "1.2.0",
          "state": {
            "_model_module": "@jupyter-widgets/base",
            "_model_module_version": "1.2.0",
            "_model_name": "LayoutModel",
            "_view_count": null,
            "_view_module": "@jupyter-widgets/base",
            "_view_module_version": "1.2.0",
            "_view_name": "LayoutView",
            "align_content": null,
            "align_items": null,
            "align_self": null,
            "border": null,
            "bottom": null,
            "display": null,
            "flex": null,
            "flex_flow": null,
            "grid_area": null,
            "grid_auto_columns": null,
            "grid_auto_flow": null,
            "grid_auto_rows": null,
            "grid_column": null,
            "grid_gap": null,
            "grid_row": null,
            "grid_template_areas": null,
            "grid_template_columns": null,
            "grid_template_rows": null,
            "height": null,
            "justify_content": null,
            "justify_items": null,
            "left": null,
            "margin": null,
            "max_height": null,
            "max_width": null,
            "min_height": null,
            "min_width": null,
            "object_fit": null,
            "object_position": null,
            "order": null,
            "overflow": null,
            "overflow_x": null,
            "overflow_y": null,
            "padding": null,
            "right": null,
            "top": null,
            "visibility": null,
            "width": null
          }
        },
        "97100a6c889b43ed9a301553961d04d1": {
          "model_module": "@jupyter-widgets/controls",
          "model_name": "DescriptionStyleModel",
          "model_module_version": "1.5.0",
          "state": {
            "_model_module": "@jupyter-widgets/controls",
            "_model_module_version": "1.5.0",
            "_model_name": "DescriptionStyleModel",
            "_view_count": null,
            "_view_module": "@jupyter-widgets/base",
            "_view_module_version": "1.2.0",
            "_view_name": "StyleView",
            "description_width": ""
          }
        },
        "b5346bd5e2d74a7faab1ee6d1085ed18": {
          "model_module": "@jupyter-widgets/base",
          "model_name": "LayoutModel",
          "model_module_version": "1.2.0",
          "state": {
            "_model_module": "@jupyter-widgets/base",
            "_model_module_version": "1.2.0",
            "_model_name": "LayoutModel",
            "_view_count": null,
            "_view_module": "@jupyter-widgets/base",
            "_view_module_version": "1.2.0",
            "_view_name": "LayoutView",
            "align_content": null,
            "align_items": null,
            "align_self": null,
            "border": null,
            "bottom": null,
            "display": null,
            "flex": null,
            "flex_flow": null,
            "grid_area": null,
            "grid_auto_columns": null,
            "grid_auto_flow": null,
            "grid_auto_rows": null,
            "grid_column": null,
            "grid_gap": null,
            "grid_row": null,
            "grid_template_areas": null,
            "grid_template_columns": null,
            "grid_template_rows": null,
            "height": null,
            "justify_content": null,
            "justify_items": null,
            "left": null,
            "margin": null,
            "max_height": null,
            "max_width": null,
            "min_height": null,
            "min_width": null,
            "object_fit": null,
            "object_position": null,
            "order": null,
            "overflow": null,
            "overflow_x": null,
            "overflow_y": null,
            "padding": null,
            "right": null,
            "top": null,
            "visibility": null,
            "width": null
          }
        },
        "7085b1c203294524a72c2060e420e78d": {
          "model_module": "@jupyter-widgets/controls",
          "model_name": "ProgressStyleModel",
          "model_module_version": "1.5.0",
          "state": {
            "_model_module": "@jupyter-widgets/controls",
            "_model_module_version": "1.5.0",
            "_model_name": "ProgressStyleModel",
            "_view_count": null,
            "_view_module": "@jupyter-widgets/base",
            "_view_module_version": "1.2.0",
            "_view_name": "StyleView",
            "bar_color": null,
            "description_width": ""
          }
        },
        "85d00a6ddf334125bab0fe5ddd3e58cc": {
          "model_module": "@jupyter-widgets/base",
          "model_name": "LayoutModel",
          "model_module_version": "1.2.0",
          "state": {
            "_model_module": "@jupyter-widgets/base",
            "_model_module_version": "1.2.0",
            "_model_name": "LayoutModel",
            "_view_count": null,
            "_view_module": "@jupyter-widgets/base",
            "_view_module_version": "1.2.0",
            "_view_name": "LayoutView",
            "align_content": null,
            "align_items": null,
            "align_self": null,
            "border": null,
            "bottom": null,
            "display": null,
            "flex": null,
            "flex_flow": null,
            "grid_area": null,
            "grid_auto_columns": null,
            "grid_auto_flow": null,
            "grid_auto_rows": null,
            "grid_column": null,
            "grid_gap": null,
            "grid_row": null,
            "grid_template_areas": null,
            "grid_template_columns": null,
            "grid_template_rows": null,
            "height": null,
            "justify_content": null,
            "justify_items": null,
            "left": null,
            "margin": null,
            "max_height": null,
            "max_width": null,
            "min_height": null,
            "min_width": null,
            "object_fit": null,
            "object_position": null,
            "order": null,
            "overflow": null,
            "overflow_x": null,
            "overflow_y": null,
            "padding": null,
            "right": null,
            "top": null,
            "visibility": null,
            "width": null
          }
        },
        "81571c0d59bb45cda4a9ac11259153b3": {
          "model_module": "@jupyter-widgets/controls",
          "model_name": "DescriptionStyleModel",
          "model_module_version": "1.5.0",
          "state": {
            "_model_module": "@jupyter-widgets/controls",
            "_model_module_version": "1.5.0",
            "_model_name": "DescriptionStyleModel",
            "_view_count": null,
            "_view_module": "@jupyter-widgets/base",
            "_view_module_version": "1.2.0",
            "_view_name": "StyleView",
            "description_width": ""
          }
        }
      }
    }
  },
  "nbformat": 4,
  "nbformat_minor": 5
}