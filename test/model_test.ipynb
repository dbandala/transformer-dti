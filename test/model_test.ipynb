{
  "cells": [
    {
      "cell_type": "code",
      "execution_count": 1,
      "metadata": {
        "colab": {
          "base_uri": "https://localhost:8080/"
        },
        "id": "5bALUwjAa9uH",
        "outputId": "9ff92008-fe1e-43d9-9196-b09fe51f404d"
      },
      "outputs": [
        {
          "output_type": "stream",
          "name": "stdout",
          "text": [
            "Looking in indexes: https://pypi.org/simple, https://us-python.pkg.dev/colab-wheels/public/simple/\n",
            "Collecting dipy\n",
            "  Downloading dipy-1.6.0-cp39-cp39-manylinux_2_12_x86_64.manylinux2010_x86_64.whl (8.2 MB)\n",
            "\u001b[2K     \u001b[90m━━━━━━━━━━━━━━━━━━━━━━━━━━━━━━━━━━━━━━━━\u001b[0m \u001b[32m8.2/8.2 MB\u001b[0m \u001b[31m27.5 MB/s\u001b[0m eta \u001b[36m0:00:00\u001b[0m\n",
            "\u001b[?25hRequirement already satisfied: scipy>=1.1 in /usr/local/lib/python3.9/dist-packages (from dipy) (1.10.1)\n",
            "Requirement already satisfied: h5py>=2.8.0 in /usr/local/lib/python3.9/dist-packages (from dipy) (3.8.0)\n",
            "Requirement already satisfied: nibabel>=3.0.0 in /usr/local/lib/python3.9/dist-packages (from dipy) (3.0.2)\n",
            "Requirement already satisfied: tqdm>=4.30.0 in /usr/local/lib/python3.9/dist-packages (from dipy) (4.65.0)\n",
            "Requirement already satisfied: numpy>=1.14.5 in /usr/local/lib/python3.9/dist-packages (from h5py>=2.8.0->dipy) (1.22.4)\n",
            "Installing collected packages: dipy\n",
            "Successfully installed dipy-1.6.0\n",
            "Looking in indexes: https://pypi.org/simple, https://us-python.pkg.dev/colab-wheels/public/simple/\n",
            "Collecting einops\n",
            "  Downloading einops-0.6.1-py3-none-any.whl (42 kB)\n",
            "\u001b[2K     \u001b[90m━━━━━━━━━━━━━━━━━━━━━━━━━━━━━━━━━━━━━━━\u001b[0m \u001b[32m42.2/42.2 kB\u001b[0m \u001b[31m548.0 kB/s\u001b[0m eta \u001b[36m0:00:00\u001b[0m\n",
            "\u001b[?25hInstalling collected packages: einops\n",
            "Successfully installed einops-0.6.1\n"
          ]
        }
      ],
      "source": [
        "!pip install dipy\n",
        "!pip install einops"
      ],
      "id": "5bALUwjAa9uH"
    },
    {
      "cell_type": "code",
      "execution_count": 2,
      "metadata": {
        "id": "S4ilmcaWa0mN",
        "colab": {
          "base_uri": "https://localhost:8080/"
        },
        "outputId": "0c985bc4-0045-474c-e938-aeb57861b3b7"
      },
      "outputs": [
        {
          "output_type": "stream",
          "name": "stdout",
          "text": [
            "Mounted at /content/drive\n"
          ]
        }
      ],
      "source": [
        "import os\n",
        "from google.colab import drive\n",
        "mount_path = '/content/drive'\n",
        "drive_path = mount_path+\"/MyDrive/dti-transformer/code/model\"\n",
        "results_path = drive_path+\"/results\"\n",
        "test_data = mount_path+'/MyDrive/dti-transformer/dti_data'\n",
        "drive.mount(mount_path)\n",
        "os.chdir(drive_path)"
      ],
      "id": "S4ilmcaWa0mN"
    },
    {
      "cell_type": "code",
      "execution_count": 3,
      "metadata": {
        "id": "cc75b2b9-310c-49f2-8c68-c9120d9bb97a"
      },
      "outputs": [],
      "source": [
        "# Daniel Bandala @ nov-2022\n",
        "# dti-model validation script\n",
        "# general libraries\n",
        "import csv\n",
        "import numpy as np\n",
        "import pandas as pd\n",
        "import matplotlib.pyplot as plt\n",
        "from math import log10, sqrt\n",
        "# diffussion image processing\n",
        "from dipy.io.image import load_nifti\n",
        "# import torch libraries\n",
        "import torch \n",
        "from torch import nn\n",
        "# import dataset auxiliar libraries\n",
        "from skimage.metrics import structural_similarity as ssim\n",
        "from skimage.metrics import mean_squared_error\n",
        "from dti_model import DiffusionTensorModel\n",
        "from data_loader import data_preprocessing"
      ],
      "id": "cc75b2b9-310c-49f2-8c68-c9120d9bb97a"
    },
    {
      "cell_type": "code",
      "execution_count": 10,
      "metadata": {
        "id": "6d1292e1-a110-4048-abc9-4ff818833c7f"
      },
      "outputs": [],
      "source": [
        "signals = 7\n",
        "maps = [\"RGB\"] #\"MD\",\"MO\",\"L1\",\"L2\",\"L3\",FA"
      ],
      "id": "6d1292e1-a110-4048-abc9-4ff818833c7f"
    },
    {
      "cell_type": "code",
      "source": [
        "# load model\n",
        "checkpoint = torch.load(results_path+'/dti_rgb.weights') #dti_fa.weights FA_2023-03-30\n",
        "model = DiffusionTensorModel(\n",
        "    in_chans=signals,\n",
        "    out_chans=3,\n",
        "    img_size=140,\n",
        "    embed_dim=64,\n",
        "    n_heads=[1,2,4,8],\n",
        "    mlp_ratio=[2,2,4,4],\n",
        "    reduction_ratio=1,\n",
        "    depth_prob=0.2,\n",
        "    tanh_output=False\n",
        ")\n",
        "# use model in cpu for validation (gpu for training)\n",
        "_ = model.to('cpu')\n",
        "_ = model.load_state_dict(checkpoint) #torch.load(, map_location=torch.device('cpu'))\n",
        "_ = model.eval()"
      ],
      "metadata": {
        "id": "FINCuRPbuGs7"
      },
      "id": "FINCuRPbuGs7",
      "execution_count": 12,
      "outputs": []
    },
    {
      "cell_type": "code",
      "source": [
        "test_list = [test_data+'/HCP/test/case_12',\n",
        "              test_data+'/HCP/test/case_14',\n",
        "              test_data+'/HCP/test/case_31',\n",
        "              test_data+'/ADNI/test/case_13',\n",
        "              test_data+'/ADNI/test/case_14',\n",
        "              test_data+'/ADNI/test/case_30'\n",
        "             ]"
      ],
      "metadata": {
        "id": "WVN9lcnLZI81"
      },
      "id": "WVN9lcnLZI81",
      "execution_count": 13,
      "outputs": []
    },
    {
      "cell_type": "code",
      "source": [
        "test_results = [[\"Slice\",\"MSE\",\"NMSE\",\"SSIM\",\"PSNR\",\"Full path\"]]\n",
        "for data_path in test_list:\n",
        "    print(f\"Processing {data_path}\")\n",
        "    data_eval, label_eval = data_preprocessing(data_path, maps=maps, signals=signals)\n",
        "    for sidx in range(data_eval.shape[0]):\n",
        "        data = data_eval[sidx]\n",
        "        label = label_eval[sidx]\n",
        "        with torch.no_grad():\n",
        "            output = model(data)\n",
        "        # detach data\n",
        "        label_np = label.detach().numpy()\n",
        "        output_np = output.detach().numpy()\n",
        "        # calculate metrics\n",
        "        label_mean = label_np.mean()\n",
        "        mse = mean_squared_error(label_np, output_np)\n",
        "        nmse = mse/label_mean if label_mean!=0 else 0\n",
        "        ssi = ssim(label_np, output_np, data_range=label_np.max() - label_np.min(), channel_axis = 0) #channel_axis = 0\n",
        "        psnr = 20*log10(1/sqrt(mse))\n",
        "        # append results\n",
        "        test_results.append([os.path.basename(data_path)+f'_{sidx}',mse,nmse,ssi,psnr,data_path])"
      ],
      "metadata": {
        "colab": {
          "base_uri": "https://localhost:8080/"
        },
        "id": "29xuEYvWZJAF",
        "outputId": "3edc8f53-bcea-408e-e28f-e196f611bf5c"
      },
      "id": "29xuEYvWZJAF",
      "execution_count": 14,
      "outputs": [
        {
          "output_type": "stream",
          "name": "stdout",
          "text": [
            "Processing /content/drive/MyDrive/dti-transformer/dti_data/HCP/test/case_12\n",
            "Processing /content/drive/MyDrive/dti-transformer/dti_data/HCP/test/case_14\n",
            "Processing /content/drive/MyDrive/dti-transformer/dti_data/HCP/test/case_31\n",
            "Processing /content/drive/MyDrive/dti-transformer/dti_data/ADNI/test/case_13\n",
            "Processing /content/drive/MyDrive/dti-transformer/dti_data/ADNI/test/case_14\n",
            "Processing /content/drive/MyDrive/dti-transformer/dti_data/ADNI/test/case_30\n"
          ]
        }
      ]
    },
    {
      "cell_type": "code",
      "source": [
        "# save results to csv file\n",
        "pd.DataFrame(test_results).to_csv(results_path+\"/test.csv\", index=False, header=False)"
      ],
      "metadata": {
        "id": "dweMUxPRZJH2"
      },
      "id": "dweMUxPRZJH2",
      "execution_count": 15,
      "outputs": []
    },
    {
      "cell_type": "code",
      "source": [],
      "metadata": {
        "id": "nhMOwWqL815i"
      },
      "id": "nhMOwWqL815i",
      "execution_count": null,
      "outputs": []
    }
  ],
  "metadata": {
    "colab": {
      "provenance": []
    },
    "gpuClass": "standard",
    "kernelspec": {
      "display_name": "Python 3 (ipykernel)",
      "language": "python",
      "name": "python3"
    },
    "language_info": {
      "codemirror_mode": {
        "name": "ipython",
        "version": 3
      },
      "file_extension": ".py",
      "mimetype": "text/x-python",
      "name": "python",
      "nbconvert_exporter": "python",
      "pygments_lexer": "ipython3",
      "version": "3.8.10"
    },
    "toc-showmarkdowntxt": false
  },
  "nbformat": 4,
  "nbformat_minor": 5
}